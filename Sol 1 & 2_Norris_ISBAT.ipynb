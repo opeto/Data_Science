{
 "cells": [
  {
   "attachments": {},
   "cell_type": "markdown",
   "metadata": {},
   "source": [
    "#  DATA SCIENCE:CASE STUDY #\n",
    "## Data Investigation and Exploratory Analysis for Mavencloudlimited_call_records\n",
    "*** Author: Nkahebwa Norris(2023) ***\n",
    "#### Solution 1 and 2"
   ]
  },
  {
   "cell_type": "code",
   "execution_count": 1,
   "metadata": {},
   "outputs": [],
   "source": [
    "#import the data manipulation libraries\n",
    "import pandas as pd\n",
    "import numpy as np\n",
    "import statistics as stat\n",
    "\n",
    "# Importing data encoding libraries\n",
    "from sklearn.preprocessing import LabelEncoder\n",
    "\n",
    "#importing the data visualization libraries\n",
    "import matplotlib.pyplot as plt\n",
    "import seaborn as sbn\n",
    "\n",
    "#Evaluation libraries\n",
    "from sklearn.model_selection import cross_val_score\n"
   ]
  },
  {
   "attachments": {},
   "cell_type": "markdown",
   "metadata": {},
   "source": [
    "Import the dataset"
   ]
  },
  {
   "cell_type": "code",
   "execution_count": 2,
   "metadata": {},
   "outputs": [],
   "source": [
    "# load the dataset\n",
    "data = pd.read_csv(\"/home/future/Desktop/Data_science_class/Case_Study/drive-download-20230314T185227Z-001/mavencloudlimited_call_records.csv\")"
   ]
  },
  {
   "cell_type": "code",
   "execution_count": 3,
   "metadata": {},
   "outputs": [],
   "source": [
    "# Copy of the dataset\n",
    "df = data.copy()"
   ]
  },
  {
   "attachments": {},
   "cell_type": "markdown",
   "metadata": {},
   "source": [
    "### Having a look and a feel of the data"
   ]
  },
  {
   "cell_type": "code",
   "execution_count": 4,
   "metadata": {},
   "outputs": [
    {
     "data": {
      "text/plain": [
       "Index(['call_id', 'destination_person_id', 'source_person_id', 'account_age',\n",
       "       'account_state', 'occupation', 'language', 'call_direction',\n",
       "       'call_duration', 'call_outcome', 'call_end_date', 'call_topics',\n",
       "       'call_topic_group'],\n",
       "      dtype='object')"
      ]
     },
     "execution_count": 4,
     "metadata": {},
     "output_type": "execute_result"
    }
   ],
   "source": [
    "# View columns titles in the data set\n",
    "df.columns"
   ]
  },
  {
   "cell_type": "code",
   "execution_count": 5,
   "metadata": {},
   "outputs": [
    {
     "name": "stdout",
     "output_type": "stream",
     "text": [
      "<class 'pandas.core.frame.DataFrame'>\n",
      "RangeIndex: 32026 entries, 0 to 32025\n",
      "Data columns (total 13 columns):\n",
      " #   Column                 Non-Null Count  Dtype  \n",
      "---  ------                 --------------  -----  \n",
      " 0   call_id                32026 non-null  int64  \n",
      " 1   destination_person_id  32026 non-null  int64  \n",
      " 2   source_person_id       32026 non-null  int64  \n",
      " 3   account_age            32026 non-null  int64  \n",
      " 4   account_state          32026 non-null  object \n",
      " 5   occupation             31931 non-null  object \n",
      " 6   language               32025 non-null  object \n",
      " 7   call_direction         32026 non-null  object \n",
      " 8   call_duration          32026 non-null  float64\n",
      " 9   call_outcome           32026 non-null  object \n",
      " 10  call_end_date          32026 non-null  object \n",
      " 11  call_topics            32026 non-null  object \n",
      " 12  call_topic_group       32026 non-null  object \n",
      "dtypes: float64(1), int64(4), object(8)\n",
      "memory usage: 3.2+ MB\n"
     ]
    }
   ],
   "source": [
    "# Count the number of entries per column and the data type of each\n",
    "df.info()"
   ]
  },
  {
   "attachments": {},
   "cell_type": "markdown",
   "metadata": {},
   "source": [
    "From the above summary, \n",
    "* we can see that there are 32028 rows and 13 columns in which there is 1 float type, 8 object type and 4 integer type data. \n",
    "* Columns like call_id, destination_person_id, occupation, language give us information about the customer. where as columns like call_direction,call_duration, call_outcome, call_end_date, call_topics, call_topic_group tell us about the nature of the call. \n",
    "* We can also observe that there are some missing values in the above dataset, this can be checked by using .isnull() function."
   ]
  },
  {
   "cell_type": "code",
   "execution_count": 6,
   "metadata": {},
   "outputs": [
    {
     "data": {
      "text/html": [
       "<div>\n",
       "<style scoped>\n",
       "    .dataframe tbody tr th:only-of-type {\n",
       "        vertical-align: middle;\n",
       "    }\n",
       "\n",
       "    .dataframe tbody tr th {\n",
       "        vertical-align: top;\n",
       "    }\n",
       "\n",
       "    .dataframe thead th {\n",
       "        text-align: right;\n",
       "    }\n",
       "</style>\n",
       "<table border=\"1\" class=\"dataframe\">\n",
       "  <thead>\n",
       "    <tr style=\"text-align: right;\">\n",
       "      <th></th>\n",
       "      <th>call_id</th>\n",
       "      <th>destination_person_id</th>\n",
       "      <th>source_person_id</th>\n",
       "      <th>account_age</th>\n",
       "      <th>account_state</th>\n",
       "      <th>occupation</th>\n",
       "      <th>language</th>\n",
       "      <th>call_direction</th>\n",
       "      <th>call_duration</th>\n",
       "      <th>call_outcome</th>\n",
       "      <th>call_end_date</th>\n",
       "      <th>call_topics</th>\n",
       "      <th>call_topic_group</th>\n",
       "    </tr>\n",
       "  </thead>\n",
       "  <tbody>\n",
       "    <tr>\n",
       "      <th>16264</th>\n",
       "      <td>2832013</td>\n",
       "      <td>114325</td>\n",
       "      <td>212954</td>\n",
       "      <td>742</td>\n",
       "      <td>In Repayment</td>\n",
       "      <td>Small Business Owner</td>\n",
       "      <td>Lango</td>\n",
       "      <td>Outgoing</td>\n",
       "      <td>0.62</td>\n",
       "      <td>Customer Unreachable</td>\n",
       "      <td>10/27/17 10:32 AM</td>\n",
       "      <td>Completions Call</td>\n",
       "      <td>Survey</td>\n",
       "    </tr>\n",
       "    <tr>\n",
       "      <th>16049</th>\n",
       "      <td>2831655</td>\n",
       "      <td>239005</td>\n",
       "      <td>382879</td>\n",
       "      <td>1</td>\n",
       "      <td>In Repayment</td>\n",
       "      <td>Small Business Owner</td>\n",
       "      <td>Lusoga</td>\n",
       "      <td>Incoming</td>\n",
       "      <td>9.75</td>\n",
       "      <td>Call Resolved</td>\n",
       "      <td>10/27/17 08:56 AM</td>\n",
       "      <td>Code Not Received</td>\n",
       "      <td>Codes</td>\n",
       "    </tr>\n",
       "    <tr>\n",
       "      <th>31002</th>\n",
       "      <td>2854054</td>\n",
       "      <td>114160</td>\n",
       "      <td>342833</td>\n",
       "      <td>99</td>\n",
       "      <td>In Repayment</td>\n",
       "      <td>Farmer</td>\n",
       "      <td>Lusoga</td>\n",
       "      <td>Incoming</td>\n",
       "      <td>3.97</td>\n",
       "      <td>Call Resolved</td>\n",
       "      <td>11/03/17 09:17 AM</td>\n",
       "      <td>Payment inquiry</td>\n",
       "      <td>Finance</td>\n",
       "    </tr>\n",
       "    <tr>\n",
       "      <th>28294</th>\n",
       "      <td>2849965</td>\n",
       "      <td>85506</td>\n",
       "      <td>118839</td>\n",
       "      <td>727</td>\n",
       "      <td>In Repayment</td>\n",
       "      <td>Farmer</td>\n",
       "      <td>Lango</td>\n",
       "      <td>Incoming</td>\n",
       "      <td>7.85</td>\n",
       "      <td>Call Resolved</td>\n",
       "      <td>11/01/17 06:13 PM</td>\n",
       "      <td>General Question</td>\n",
       "      <td>General</td>\n",
       "    </tr>\n",
       "    <tr>\n",
       "      <th>18238</th>\n",
       "      <td>2834815</td>\n",
       "      <td>212967</td>\n",
       "      <td>358871</td>\n",
       "      <td>66</td>\n",
       "      <td>In Repayment</td>\n",
       "      <td>Farmer</td>\n",
       "      <td>Luganda</td>\n",
       "      <td>Incoming</td>\n",
       "      <td>3.13</td>\n",
       "      <td>Call Resolved</td>\n",
       "      <td>10/28/17 08:10 AM</td>\n",
       "      <td>Code Not Received</td>\n",
       "      <td>Codes</td>\n",
       "    </tr>\n",
       "  </tbody>\n",
       "</table>\n",
       "</div>"
      ],
      "text/plain": [
       "       call_id  destination_person_id  source_person_id  account_age  \\\n",
       "16264  2832013                 114325            212954          742   \n",
       "16049  2831655                 239005            382879            1   \n",
       "31002  2854054                 114160            342833           99   \n",
       "28294  2849965                  85506            118839          727   \n",
       "18238  2834815                 212967            358871           66   \n",
       "\n",
       "      account_state            occupation language call_direction  \\\n",
       "16264  In Repayment  Small Business Owner    Lango       Outgoing   \n",
       "16049  In Repayment  Small Business Owner   Lusoga       Incoming   \n",
       "31002  In Repayment                Farmer   Lusoga       Incoming   \n",
       "28294  In Repayment                Farmer    Lango       Incoming   \n",
       "18238  In Repayment                Farmer  Luganda       Incoming   \n",
       "\n",
       "       call_duration          call_outcome      call_end_date  \\\n",
       "16264           0.62  Customer Unreachable  10/27/17 10:32 AM   \n",
       "16049           9.75         Call Resolved  10/27/17 08:56 AM   \n",
       "31002           3.97         Call Resolved  11/03/17 09:17 AM   \n",
       "28294           7.85         Call Resolved  11/01/17 06:13 PM   \n",
       "18238           3.13         Call Resolved  10/28/17 08:10 AM   \n",
       "\n",
       "             call_topics call_topic_group  \n",
       "16264   Completions Call           Survey  \n",
       "16049  Code Not Received            Codes  \n",
       "31002    Payment inquiry          Finance  \n",
       "28294   General Question         General   \n",
       "18238  Code Not Received            Codes  "
      ]
     },
     "execution_count": 6,
     "metadata": {},
     "output_type": "execute_result"
    }
   ],
   "source": [
    "# A random sample of the data\n",
    "df.sample(5)"
   ]
  },
  {
   "cell_type": "code",
   "execution_count": 7,
   "metadata": {},
   "outputs": [
    {
     "data": {
      "text/html": [
       "<div>\n",
       "<style scoped>\n",
       "    .dataframe tbody tr th:only-of-type {\n",
       "        vertical-align: middle;\n",
       "    }\n",
       "\n",
       "    .dataframe tbody tr th {\n",
       "        vertical-align: top;\n",
       "    }\n",
       "\n",
       "    .dataframe thead th {\n",
       "        text-align: right;\n",
       "    }\n",
       "</style>\n",
       "<table border=\"1\" class=\"dataframe\">\n",
       "  <thead>\n",
       "    <tr style=\"text-align: right;\">\n",
       "      <th></th>\n",
       "      <th>call_id</th>\n",
       "      <th>destination_person_id</th>\n",
       "      <th>source_person_id</th>\n",
       "      <th>account_age</th>\n",
       "      <th>account_state</th>\n",
       "      <th>occupation</th>\n",
       "      <th>language</th>\n",
       "      <th>call_direction</th>\n",
       "      <th>call_duration</th>\n",
       "      <th>call_outcome</th>\n",
       "      <th>call_end_date</th>\n",
       "      <th>call_topics</th>\n",
       "      <th>call_topic_group</th>\n",
       "    </tr>\n",
       "  </thead>\n",
       "  <tbody>\n",
       "    <tr>\n",
       "      <th>0</th>\n",
       "      <td>2807990</td>\n",
       "      <td>86394</td>\n",
       "      <td>269898</td>\n",
       "      <td>301</td>\n",
       "      <td>In Repayment</td>\n",
       "      <td>Farmer</td>\n",
       "      <td>Luganda</td>\n",
       "      <td>Incoming</td>\n",
       "      <td>0.78</td>\n",
       "      <td>Call Resolved</td>\n",
       "      <td>10/21/17 04:01 AM</td>\n",
       "      <td>Call Dropped</td>\n",
       "      <td>Other</td>\n",
       "    </tr>\n",
       "    <tr>\n",
       "      <th>1</th>\n",
       "      <td>2807991</td>\n",
       "      <td>86394</td>\n",
       "      <td>320367</td>\n",
       "      <td>122</td>\n",
       "      <td>In Repayment</td>\n",
       "      <td>Other</td>\n",
       "      <td>Luganda</td>\n",
       "      <td>Incoming</td>\n",
       "      <td>1.93</td>\n",
       "      <td>Call Resolved</td>\n",
       "      <td>10/21/17 04:04 AM</td>\n",
       "      <td>Code Not Received</td>\n",
       "      <td>Codes</td>\n",
       "    </tr>\n",
       "    <tr>\n",
       "      <th>2</th>\n",
       "      <td>2807992</td>\n",
       "      <td>212967</td>\n",
       "      <td>129042</td>\n",
       "      <td>695</td>\n",
       "      <td>In Repayment</td>\n",
       "      <td>Mechanic / Technician</td>\n",
       "      <td>Luganda</td>\n",
       "      <td>Incoming</td>\n",
       "      <td>4.90</td>\n",
       "      <td>Call Resolved</td>\n",
       "      <td>10/21/17 04:05 AM</td>\n",
       "      <td>RP Remote Technical</td>\n",
       "      <td>Accessory Technical Issue</td>\n",
       "    </tr>\n",
       "    <tr>\n",
       "      <th>3</th>\n",
       "      <td>2807993</td>\n",
       "      <td>114159</td>\n",
       "      <td>372282</td>\n",
       "      <td>22</td>\n",
       "      <td>In Repayment</td>\n",
       "      <td>Farmer</td>\n",
       "      <td>Lango</td>\n",
       "      <td>Incoming</td>\n",
       "      <td>3.77</td>\n",
       "      <td>Call Resolved</td>\n",
       "      <td>10/21/17 04:06 AM</td>\n",
       "      <td>Code Not Received</td>\n",
       "      <td>Codes</td>\n",
       "    </tr>\n",
       "    <tr>\n",
       "      <th>4</th>\n",
       "      <td>2807994</td>\n",
       "      <td>86394</td>\n",
       "      <td>366749</td>\n",
       "      <td>44</td>\n",
       "      <td>In Repayment</td>\n",
       "      <td>Electrician</td>\n",
       "      <td>Luganda</td>\n",
       "      <td>Incoming</td>\n",
       "      <td>2.62</td>\n",
       "      <td>Call Resolved</td>\n",
       "      <td>10/21/17 04:07 AM</td>\n",
       "      <td>Code Not Received</td>\n",
       "      <td>Codes</td>\n",
       "    </tr>\n",
       "  </tbody>\n",
       "</table>\n",
       "</div>"
      ],
      "text/plain": [
       "   call_id  destination_person_id  source_person_id  account_age  \\\n",
       "0  2807990                  86394            269898          301   \n",
       "1  2807991                  86394            320367          122   \n",
       "2  2807992                 212967            129042          695   \n",
       "3  2807993                 114159            372282           22   \n",
       "4  2807994                  86394            366749           44   \n",
       "\n",
       "  account_state             occupation language call_direction  call_duration  \\\n",
       "0  In Repayment                 Farmer  Luganda       Incoming           0.78   \n",
       "1  In Repayment                  Other  Luganda       Incoming           1.93   \n",
       "2  In Repayment  Mechanic / Technician  Luganda       Incoming           4.90   \n",
       "3  In Repayment                 Farmer    Lango       Incoming           3.77   \n",
       "4  In Repayment            Electrician  Luganda       Incoming           2.62   \n",
       "\n",
       "    call_outcome      call_end_date          call_topics  \\\n",
       "0  Call Resolved  10/21/17 04:01 AM         Call Dropped   \n",
       "1  Call Resolved  10/21/17 04:04 AM    Code Not Received   \n",
       "2  Call Resolved  10/21/17 04:05 AM  RP Remote Technical   \n",
       "3  Call Resolved  10/21/17 04:06 AM    Code Not Received   \n",
       "4  Call Resolved  10/21/17 04:07 AM    Code Not Received   \n",
       "\n",
       "            call_topic_group  \n",
       "0                      Other  \n",
       "1                      Codes  \n",
       "2  Accessory Technical Issue  \n",
       "3                      Codes  \n",
       "4                      Codes  "
      ]
     },
     "execution_count": 7,
     "metadata": {},
     "output_type": "execute_result"
    }
   ],
   "source": [
    "df.head(5)"
   ]
  },
  {
   "cell_type": "code",
   "execution_count": 8,
   "metadata": {},
   "outputs": [
    {
     "data": {
      "text/html": [
       "<div>\n",
       "<style scoped>\n",
       "    .dataframe tbody tr th:only-of-type {\n",
       "        vertical-align: middle;\n",
       "    }\n",
       "\n",
       "    .dataframe tbody tr th {\n",
       "        vertical-align: top;\n",
       "    }\n",
       "\n",
       "    .dataframe thead th {\n",
       "        text-align: right;\n",
       "    }\n",
       "</style>\n",
       "<table border=\"1\" class=\"dataframe\">\n",
       "  <thead>\n",
       "    <tr style=\"text-align: right;\">\n",
       "      <th></th>\n",
       "      <th>call_id</th>\n",
       "      <th>destination_person_id</th>\n",
       "      <th>source_person_id</th>\n",
       "      <th>account_age</th>\n",
       "      <th>account_state</th>\n",
       "      <th>occupation</th>\n",
       "      <th>language</th>\n",
       "      <th>call_direction</th>\n",
       "      <th>call_duration</th>\n",
       "      <th>call_outcome</th>\n",
       "      <th>call_end_date</th>\n",
       "      <th>call_topics</th>\n",
       "      <th>call_topic_group</th>\n",
       "    </tr>\n",
       "  </thead>\n",
       "  <tbody>\n",
       "    <tr>\n",
       "      <th>32021</th>\n",
       "      <td>2855830</td>\n",
       "      <td>338414</td>\n",
       "      <td>361079</td>\n",
       "      <td>68</td>\n",
       "      <td>In Repayment</td>\n",
       "      <td>Small Business Owner</td>\n",
       "      <td>Lunyankore</td>\n",
       "      <td>Incoming</td>\n",
       "      <td>6.55</td>\n",
       "      <td>Call Resolved</td>\n",
       "      <td>11/03/17 03:08 PM</td>\n",
       "      <td>MM Issue</td>\n",
       "      <td>Finance</td>\n",
       "    </tr>\n",
       "    <tr>\n",
       "      <th>32022</th>\n",
       "      <td>2855832</td>\n",
       "      <td>157397</td>\n",
       "      <td>302921</td>\n",
       "      <td>183</td>\n",
       "      <td>In Repayment</td>\n",
       "      <td>Farmer</td>\n",
       "      <td>Ma'di</td>\n",
       "      <td>Incoming</td>\n",
       "      <td>12.90</td>\n",
       "      <td>Call Resolved</td>\n",
       "      <td>11/03/17 03:09 PM</td>\n",
       "      <td>Redeem Code, Code Entry Support</td>\n",
       "      <td>Codes</td>\n",
       "    </tr>\n",
       "    <tr>\n",
       "      <th>32023</th>\n",
       "      <td>2855835</td>\n",
       "      <td>80646</td>\n",
       "      <td>229800</td>\n",
       "      <td>386</td>\n",
       "      <td>In Repayment</td>\n",
       "      <td>Farmer</td>\n",
       "      <td>Luganda</td>\n",
       "      <td>Incoming</td>\n",
       "      <td>1.25</td>\n",
       "      <td>Call Resolved</td>\n",
       "      <td>11/03/17 03:09 PM</td>\n",
       "      <td>Ended Call- Hearing/Speaking Issues</td>\n",
       "      <td>Other</td>\n",
       "    </tr>\n",
       "    <tr>\n",
       "      <th>32024</th>\n",
       "      <td>2855836</td>\n",
       "      <td>338372</td>\n",
       "      <td>8029</td>\n",
       "      <td>1146</td>\n",
       "      <td>Cancelled</td>\n",
       "      <td>Boda Boda</td>\n",
       "      <td>English</td>\n",
       "      <td>Incoming</td>\n",
       "      <td>2.98</td>\n",
       "      <td>Call Resolved</td>\n",
       "      <td>11/03/17 03:10 PM</td>\n",
       "      <td>Account Association</td>\n",
       "      <td>Sales</td>\n",
       "    </tr>\n",
       "    <tr>\n",
       "      <th>32025</th>\n",
       "      <td>2855837</td>\n",
       "      <td>124255</td>\n",
       "      <td>387315</td>\n",
       "      <td>0</td>\n",
       "      <td>In Repayment</td>\n",
       "      <td>Small Business Owner</td>\n",
       "      <td>Luganda</td>\n",
       "      <td>Incoming</td>\n",
       "      <td>3.08</td>\n",
       "      <td>Call Resolved</td>\n",
       "      <td>11/03/17 03:11 PM</td>\n",
       "      <td>Account Association</td>\n",
       "      <td>Sales</td>\n",
       "    </tr>\n",
       "  </tbody>\n",
       "</table>\n",
       "</div>"
      ],
      "text/plain": [
       "       call_id  destination_person_id  source_person_id  account_age  \\\n",
       "32021  2855830                 338414            361079           68   \n",
       "32022  2855832                 157397            302921          183   \n",
       "32023  2855835                  80646            229800          386   \n",
       "32024  2855836                 338372              8029         1146   \n",
       "32025  2855837                 124255            387315            0   \n",
       "\n",
       "      account_state            occupation    language call_direction  \\\n",
       "32021  In Repayment  Small Business Owner  Lunyankore       Incoming   \n",
       "32022  In Repayment                Farmer       Ma'di       Incoming   \n",
       "32023  In Repayment                Farmer     Luganda       Incoming   \n",
       "32024     Cancelled             Boda Boda     English       Incoming   \n",
       "32025  In Repayment  Small Business Owner     Luganda       Incoming   \n",
       "\n",
       "       call_duration   call_outcome      call_end_date  \\\n",
       "32021           6.55  Call Resolved  11/03/17 03:08 PM   \n",
       "32022          12.90  Call Resolved  11/03/17 03:09 PM   \n",
       "32023           1.25  Call Resolved  11/03/17 03:09 PM   \n",
       "32024           2.98  Call Resolved  11/03/17 03:10 PM   \n",
       "32025           3.08  Call Resolved  11/03/17 03:11 PM   \n",
       "\n",
       "                               call_topics call_topic_group  \n",
       "32021                             MM Issue          Finance  \n",
       "32022      Redeem Code, Code Entry Support            Codes  \n",
       "32023  Ended Call- Hearing/Speaking Issues            Other  \n",
       "32024                  Account Association            Sales  \n",
       "32025                  Account Association            Sales  "
      ]
     },
     "execution_count": 8,
     "metadata": {},
     "output_type": "execute_result"
    }
   ],
   "source": [
    "df.tail(5)"
   ]
  },
  {
   "cell_type": "code",
   "execution_count": 9,
   "metadata": {},
   "outputs": [
    {
     "data": {
      "text/html": [
       "<div>\n",
       "<style scoped>\n",
       "    .dataframe tbody tr th:only-of-type {\n",
       "        vertical-align: middle;\n",
       "    }\n",
       "\n",
       "    .dataframe tbody tr th {\n",
       "        vertical-align: top;\n",
       "    }\n",
       "\n",
       "    .dataframe thead th {\n",
       "        text-align: right;\n",
       "    }\n",
       "</style>\n",
       "<table border=\"1\" class=\"dataframe\">\n",
       "  <thead>\n",
       "    <tr style=\"text-align: right;\">\n",
       "      <th></th>\n",
       "      <th>call_id</th>\n",
       "      <th>destination_person_id</th>\n",
       "      <th>source_person_id</th>\n",
       "      <th>account_age</th>\n",
       "      <th>account_state</th>\n",
       "      <th>occupation</th>\n",
       "      <th>language</th>\n",
       "      <th>call_direction</th>\n",
       "      <th>call_duration</th>\n",
       "      <th>call_outcome</th>\n",
       "      <th>call_end_date</th>\n",
       "      <th>call_topics</th>\n",
       "      <th>call_topic_group</th>\n",
       "    </tr>\n",
       "  </thead>\n",
       "  <tbody>\n",
       "    <tr>\n",
       "      <th>count</th>\n",
       "      <td>3.202600e+04</td>\n",
       "      <td>32026.000000</td>\n",
       "      <td>32026.000000</td>\n",
       "      <td>32026.000000</td>\n",
       "      <td>32026</td>\n",
       "      <td>31931</td>\n",
       "      <td>32025</td>\n",
       "      <td>32026</td>\n",
       "      <td>32026.000000</td>\n",
       "      <td>32026</td>\n",
       "      <td>32026</td>\n",
       "      <td>32026</td>\n",
       "      <td>32026</td>\n",
       "    </tr>\n",
       "    <tr>\n",
       "      <th>unique</th>\n",
       "      <td>NaN</td>\n",
       "      <td>NaN</td>\n",
       "      <td>NaN</td>\n",
       "      <td>NaN</td>\n",
       "      <td>4</td>\n",
       "      <td>36</td>\n",
       "      <td>28</td>\n",
       "      <td>2</td>\n",
       "      <td>NaN</td>\n",
       "      <td>12</td>\n",
       "      <td>10950</td>\n",
       "      <td>1210</td>\n",
       "      <td>12</td>\n",
       "    </tr>\n",
       "    <tr>\n",
       "      <th>top</th>\n",
       "      <td>NaN</td>\n",
       "      <td>NaN</td>\n",
       "      <td>NaN</td>\n",
       "      <td>NaN</td>\n",
       "      <td>In Repayment</td>\n",
       "      <td>Farmer</td>\n",
       "      <td>Luganda</td>\n",
       "      <td>Incoming</td>\n",
       "      <td>NaN</td>\n",
       "      <td>Call Resolved</td>\n",
       "      <td>10/21/17 12:52 PM</td>\n",
       "      <td>Completions Call</td>\n",
       "      <td>Codes</td>\n",
       "    </tr>\n",
       "    <tr>\n",
       "      <th>freq</th>\n",
       "      <td>NaN</td>\n",
       "      <td>NaN</td>\n",
       "      <td>NaN</td>\n",
       "      <td>NaN</td>\n",
       "      <td>28347</td>\n",
       "      <td>11484</td>\n",
       "      <td>9516</td>\n",
       "      <td>24284</td>\n",
       "      <td>NaN</td>\n",
       "      <td>27212</td>\n",
       "      <td>19</td>\n",
       "      <td>4226</td>\n",
       "      <td>7243</td>\n",
       "    </tr>\n",
       "    <tr>\n",
       "      <th>mean</th>\n",
       "      <td>2.831673e+06</td>\n",
       "      <td>176394.249641</td>\n",
       "      <td>238988.356710</td>\n",
       "      <td>342.357210</td>\n",
       "      <td>NaN</td>\n",
       "      <td>NaN</td>\n",
       "      <td>NaN</td>\n",
       "      <td>NaN</td>\n",
       "      <td>4.801554</td>\n",
       "      <td>NaN</td>\n",
       "      <td>NaN</td>\n",
       "      <td>NaN</td>\n",
       "      <td>NaN</td>\n",
       "    </tr>\n",
       "    <tr>\n",
       "      <th>std</th>\n",
       "      <td>1.374697e+04</td>\n",
       "      <td>97752.252739</td>\n",
       "      <td>106048.676313</td>\n",
       "      <td>306.649513</td>\n",
       "      <td>NaN</td>\n",
       "      <td>NaN</td>\n",
       "      <td>NaN</td>\n",
       "      <td>NaN</td>\n",
       "      <td>4.906148</td>\n",
       "      <td>NaN</td>\n",
       "      <td>NaN</td>\n",
       "      <td>NaN</td>\n",
       "      <td>NaN</td>\n",
       "    </tr>\n",
       "    <tr>\n",
       "      <th>min</th>\n",
       "      <td>2.807990e+06</td>\n",
       "      <td>73.000000</td>\n",
       "      <td>89.000000</td>\n",
       "      <td>-10.000000</td>\n",
       "      <td>NaN</td>\n",
       "      <td>NaN</td>\n",
       "      <td>NaN</td>\n",
       "      <td>NaN</td>\n",
       "      <td>0.000000</td>\n",
       "      <td>NaN</td>\n",
       "      <td>NaN</td>\n",
       "      <td>NaN</td>\n",
       "      <td>NaN</td>\n",
       "    </tr>\n",
       "    <tr>\n",
       "      <th>25%</th>\n",
       "      <td>2.819687e+06</td>\n",
       "      <td>108351.000000</td>\n",
       "      <td>155159.000000</td>\n",
       "      <td>64.000000</td>\n",
       "      <td>NaN</td>\n",
       "      <td>NaN</td>\n",
       "      <td>NaN</td>\n",
       "      <td>NaN</td>\n",
       "      <td>1.550000</td>\n",
       "      <td>NaN</td>\n",
       "      <td>NaN</td>\n",
       "      <td>NaN</td>\n",
       "      <td>NaN</td>\n",
       "    </tr>\n",
       "    <tr>\n",
       "      <th>50%</th>\n",
       "      <td>2.831606e+06</td>\n",
       "      <td>134577.000000</td>\n",
       "      <td>239082.000000</td>\n",
       "      <td>298.000000</td>\n",
       "      <td>NaN</td>\n",
       "      <td>NaN</td>\n",
       "      <td>NaN</td>\n",
       "      <td>NaN</td>\n",
       "      <td>3.580000</td>\n",
       "      <td>NaN</td>\n",
       "      <td>NaN</td>\n",
       "      <td>NaN</td>\n",
       "      <td>NaN</td>\n",
       "    </tr>\n",
       "    <tr>\n",
       "      <th>75%</th>\n",
       "      <td>2.843482e+06</td>\n",
       "      <td>239005.000000</td>\n",
       "      <td>338350.750000</td>\n",
       "      <td>573.000000</td>\n",
       "      <td>NaN</td>\n",
       "      <td>NaN</td>\n",
       "      <td>NaN</td>\n",
       "      <td>NaN</td>\n",
       "      <td>6.200000</td>\n",
       "      <td>NaN</td>\n",
       "      <td>NaN</td>\n",
       "      <td>NaN</td>\n",
       "      <td>NaN</td>\n",
       "    </tr>\n",
       "    <tr>\n",
       "      <th>max</th>\n",
       "      <td>2.855837e+06</td>\n",
       "      <td>387319.000000</td>\n",
       "      <td>387407.000000</td>\n",
       "      <td>1430.000000</td>\n",
       "      <td>NaN</td>\n",
       "      <td>NaN</td>\n",
       "      <td>NaN</td>\n",
       "      <td>NaN</td>\n",
       "      <td>57.870000</td>\n",
       "      <td>NaN</td>\n",
       "      <td>NaN</td>\n",
       "      <td>NaN</td>\n",
       "      <td>NaN</td>\n",
       "    </tr>\n",
       "  </tbody>\n",
       "</table>\n",
       "</div>"
      ],
      "text/plain": [
       "             call_id  destination_person_id  source_person_id   account_age  \\\n",
       "count   3.202600e+04           32026.000000      32026.000000  32026.000000   \n",
       "unique           NaN                    NaN               NaN           NaN   \n",
       "top              NaN                    NaN               NaN           NaN   \n",
       "freq             NaN                    NaN               NaN           NaN   \n",
       "mean    2.831673e+06          176394.249641     238988.356710    342.357210   \n",
       "std     1.374697e+04           97752.252739     106048.676313    306.649513   \n",
       "min     2.807990e+06              73.000000         89.000000    -10.000000   \n",
       "25%     2.819687e+06          108351.000000     155159.000000     64.000000   \n",
       "50%     2.831606e+06          134577.000000     239082.000000    298.000000   \n",
       "75%     2.843482e+06          239005.000000     338350.750000    573.000000   \n",
       "max     2.855837e+06          387319.000000     387407.000000   1430.000000   \n",
       "\n",
       "       account_state occupation language call_direction  call_duration  \\\n",
       "count          32026      31931    32025          32026   32026.000000   \n",
       "unique             4         36       28              2            NaN   \n",
       "top     In Repayment     Farmer  Luganda       Incoming            NaN   \n",
       "freq           28347      11484     9516          24284            NaN   \n",
       "mean             NaN        NaN      NaN            NaN       4.801554   \n",
       "std              NaN        NaN      NaN            NaN       4.906148   \n",
       "min              NaN        NaN      NaN            NaN       0.000000   \n",
       "25%              NaN        NaN      NaN            NaN       1.550000   \n",
       "50%              NaN        NaN      NaN            NaN       3.580000   \n",
       "75%              NaN        NaN      NaN            NaN       6.200000   \n",
       "max              NaN        NaN      NaN            NaN      57.870000   \n",
       "\n",
       "         call_outcome      call_end_date       call_topics call_topic_group  \n",
       "count           32026              32026             32026            32026  \n",
       "unique             12              10950              1210               12  \n",
       "top     Call Resolved  10/21/17 12:52 PM  Completions Call            Codes  \n",
       "freq            27212                 19              4226             7243  \n",
       "mean              NaN                NaN               NaN              NaN  \n",
       "std               NaN                NaN               NaN              NaN  \n",
       "min               NaN                NaN               NaN              NaN  \n",
       "25%               NaN                NaN               NaN              NaN  \n",
       "50%               NaN                NaN               NaN              NaN  \n",
       "75%               NaN                NaN               NaN              NaN  \n",
       "max               NaN                NaN               NaN              NaN  "
      ]
     },
     "execution_count": 9,
     "metadata": {},
     "output_type": "execute_result"
    }
   ],
   "source": [
    "# Descriptive Statistics\n",
    "df.describe(include=\"all\")"
   ]
  },
  {
   "cell_type": "code",
   "execution_count": 10,
   "metadata": {},
   "outputs": [
    {
     "name": "stdout",
     "output_type": "stream",
     "text": [
      "The data set has 32026 rows and 13 columns.\n"
     ]
    }
   ],
   "source": [
    "print(\"The data set has\", df.shape[0],\"rows and\",df.shape[1],\"columns.\")"
   ]
  },
  {
   "cell_type": "code",
   "execution_count": 11,
   "metadata": {},
   "outputs": [
    {
     "data": {
      "text/plain": [
       "0"
      ]
     },
     "execution_count": 11,
     "metadata": {},
     "output_type": "execute_result"
    }
   ],
   "source": [
    "# Check for duplicates\n",
    "df.duplicated().sum()"
   ]
  },
  {
   "attachments": {},
   "cell_type": "markdown",
   "metadata": {},
   "source": [
    "* No duplicates found"
   ]
  },
  {
   "cell_type": "code",
   "execution_count": 12,
   "metadata": {},
   "outputs": [
    {
     "data": {
      "text/plain": [
       "array(['Luganda', 'Lango', 'Acholi', 'Alur', 'Lumasaba', 'Lusoga',\n",
       "       'Lunyankore', 'Ateso', 'Lunyoro', 'English', 'Lunyole', 'Lutooro',\n",
       "       'Rukiga', 'Lugwere', 'Lugbara', 'Japadhola', 'Samia', 'Lukonjo',\n",
       "       'Kupsabiiny', 'Rufumbira', 'Kinyarwanda', 'Kakwa', 'Lungungu',\n",
       "       'Kumam', \"Ma'di\", 'Swahili', \"Ng'akarimojong\", 'Lubwiisi', nan],\n",
       "      dtype=object)"
      ]
     },
     "execution_count": 12,
     "metadata": {},
     "output_type": "execute_result"
    }
   ],
   "source": [
    "df.language.unique()"
   ]
  },
  {
   "attachments": {},
   "cell_type": "markdown",
   "metadata": {},
   "source": [
    "* Note: Editing the language from \"Karamojong\" to \"Ng'akarimojong\" in the .csv file"
   ]
  },
  {
   "cell_type": "code",
   "execution_count": 13,
   "metadata": {},
   "outputs": [
    {
     "data": {
      "text/plain": [
       "array(['Farmer', 'Other', 'Mechanic / Technician', 'Electrician',\n",
       "       'Small Business Owner', 'Fisherman', nan, 'UPDF', 'Driver',\n",
       "       'Boda Boda', 'Teacher', 'Construction', 'Market Trader',\n",
       "       'Carpenter', 'Shop Keeper', 'Tailor', 'NGO Worker', 'Engineer',\n",
       "       'Herbalist', 'Office Work', 'Butcher',\n",
       "       'Government / Civil Servant', 'Security Guard', 'Cattle Trader',\n",
       "       'Religious Leader', 'Police', 'Health Worker', 'MM Agent',\n",
       "       'Not Employed', 'Taxi Operator', 'Broker', 'Journalist',\n",
       "       'Accountant', 'Tour Guide', 'Uganda Prisons', 'Banker',\n",
       "       'Money Changer'], dtype=object)"
      ]
     },
     "execution_count": 13,
     "metadata": {},
     "output_type": "execute_result"
    }
   ],
   "source": [
    "df.occupation.unique()"
   ]
  },
  {
   "cell_type": "code",
   "execution_count": 14,
   "metadata": {},
   "outputs": [
    {
     "data": {
      "text/plain": [
       "array(['In Repayment', 'Complete', 'Cancelled', 'Suspended'], dtype=object)"
      ]
     },
     "execution_count": 14,
     "metadata": {},
     "output_type": "execute_result"
    }
   ],
   "source": [
    "df.account_state.unique()"
   ]
  },
  {
   "cell_type": "code",
   "execution_count": 15,
   "metadata": {},
   "outputs": [],
   "source": [
    "df=data.copy()"
   ]
  },
  {
   "attachments": {},
   "cell_type": "markdown",
   "metadata": {},
   "source": [
    "### Missing values ###"
   ]
  },
  {
   "cell_type": "code",
   "execution_count": 16,
   "metadata": {},
   "outputs": [],
   "source": [
    "# Create table for missing data for purposes of analysis\n",
    "def draw_missing_data_table(dataset):\n",
    "    total = dataset.isnull().sum().sort_values(ascending=False)\n",
    "    percent = (dataset.isnull().sum()/dataset.isnull().count()).sort_values(ascending=False)\n",
    "    missing_data = pd.concat(\n",
    "        [total, percent], axis=1,\n",
    "        keys=['Total Nulls in dataset', 'Percent of Nulls'])\n",
    "    return missing_data"
   ]
  },
  {
   "cell_type": "code",
   "execution_count": 17,
   "metadata": {},
   "outputs": [
    {
     "data": {
      "text/html": [
       "<div>\n",
       "<style scoped>\n",
       "    .dataframe tbody tr th:only-of-type {\n",
       "        vertical-align: middle;\n",
       "    }\n",
       "\n",
       "    .dataframe tbody tr th {\n",
       "        vertical-align: top;\n",
       "    }\n",
       "\n",
       "    .dataframe thead th {\n",
       "        text-align: right;\n",
       "    }\n",
       "</style>\n",
       "<table border=\"1\" class=\"dataframe\">\n",
       "  <thead>\n",
       "    <tr style=\"text-align: right;\">\n",
       "      <th></th>\n",
       "      <th>Total Nulls in dataset</th>\n",
       "      <th>Percent of Nulls</th>\n",
       "    </tr>\n",
       "  </thead>\n",
       "  <tbody>\n",
       "    <tr>\n",
       "      <th>occupation</th>\n",
       "      <td>95</td>\n",
       "      <td>0.002966</td>\n",
       "    </tr>\n",
       "    <tr>\n",
       "      <th>language</th>\n",
       "      <td>1</td>\n",
       "      <td>0.000031</td>\n",
       "    </tr>\n",
       "    <tr>\n",
       "      <th>call_id</th>\n",
       "      <td>0</td>\n",
       "      <td>0.000000</td>\n",
       "    </tr>\n",
       "    <tr>\n",
       "      <th>destination_person_id</th>\n",
       "      <td>0</td>\n",
       "      <td>0.000000</td>\n",
       "    </tr>\n",
       "    <tr>\n",
       "      <th>source_person_id</th>\n",
       "      <td>0</td>\n",
       "      <td>0.000000</td>\n",
       "    </tr>\n",
       "    <tr>\n",
       "      <th>account_age</th>\n",
       "      <td>0</td>\n",
       "      <td>0.000000</td>\n",
       "    </tr>\n",
       "    <tr>\n",
       "      <th>account_state</th>\n",
       "      <td>0</td>\n",
       "      <td>0.000000</td>\n",
       "    </tr>\n",
       "    <tr>\n",
       "      <th>call_direction</th>\n",
       "      <td>0</td>\n",
       "      <td>0.000000</td>\n",
       "    </tr>\n",
       "    <tr>\n",
       "      <th>call_duration</th>\n",
       "      <td>0</td>\n",
       "      <td>0.000000</td>\n",
       "    </tr>\n",
       "    <tr>\n",
       "      <th>call_outcome</th>\n",
       "      <td>0</td>\n",
       "      <td>0.000000</td>\n",
       "    </tr>\n",
       "    <tr>\n",
       "      <th>call_end_date</th>\n",
       "      <td>0</td>\n",
       "      <td>0.000000</td>\n",
       "    </tr>\n",
       "    <tr>\n",
       "      <th>call_topics</th>\n",
       "      <td>0</td>\n",
       "      <td>0.000000</td>\n",
       "    </tr>\n",
       "    <tr>\n",
       "      <th>call_topic_group</th>\n",
       "      <td>0</td>\n",
       "      <td>0.000000</td>\n",
       "    </tr>\n",
       "  </tbody>\n",
       "</table>\n",
       "</div>"
      ],
      "text/plain": [
       "                       Total Nulls in dataset  Percent of Nulls\n",
       "occupation                                 95          0.002966\n",
       "language                                    1          0.000031\n",
       "call_id                                     0          0.000000\n",
       "destination_person_id                       0          0.000000\n",
       "source_person_id                            0          0.000000\n",
       "account_age                                 0          0.000000\n",
       "account_state                               0          0.000000\n",
       "call_direction                              0          0.000000\n",
       "call_duration                               0          0.000000\n",
       "call_outcome                                0          0.000000\n",
       "call_end_date                               0          0.000000\n",
       "call_topics                                 0          0.000000\n",
       "call_topic_group                            0          0.000000"
      ]
     },
     "execution_count": 17,
     "metadata": {},
     "output_type": "execute_result"
    }
   ],
   "source": [
    "#Missing data analysis\n",
    "draw_missing_data_table(df)"
   ]
  },
  {
   "attachments": {},
   "cell_type": "markdown",
   "metadata": {},
   "source": [
    "#### Observations ####\n",
    "> In the above block we can see that;\n",
    "* Occupation has the highest number of null values and least being associated with language being only one.\n"
   ]
  },
  {
   "cell_type": "code",
   "execution_count": 18,
   "metadata": {},
   "outputs": [],
   "source": [
    "#drop missing data\n",
    "df=df.dropna()"
   ]
  },
  {
   "cell_type": "code",
   "execution_count": 19,
   "metadata": {},
   "outputs": [
    {
     "data": {
      "text/html": [
       "<div>\n",
       "<style scoped>\n",
       "    .dataframe tbody tr th:only-of-type {\n",
       "        vertical-align: middle;\n",
       "    }\n",
       "\n",
       "    .dataframe tbody tr th {\n",
       "        vertical-align: top;\n",
       "    }\n",
       "\n",
       "    .dataframe thead th {\n",
       "        text-align: right;\n",
       "    }\n",
       "</style>\n",
       "<table border=\"1\" class=\"dataframe\">\n",
       "  <thead>\n",
       "    <tr style=\"text-align: right;\">\n",
       "      <th></th>\n",
       "      <th>Total Nulls in dataset</th>\n",
       "      <th>Percent of Nulls</th>\n",
       "    </tr>\n",
       "  </thead>\n",
       "  <tbody>\n",
       "    <tr>\n",
       "      <th>call_id</th>\n",
       "      <td>0</td>\n",
       "      <td>0.0</td>\n",
       "    </tr>\n",
       "    <tr>\n",
       "      <th>destination_person_id</th>\n",
       "      <td>0</td>\n",
       "      <td>0.0</td>\n",
       "    </tr>\n",
       "    <tr>\n",
       "      <th>source_person_id</th>\n",
       "      <td>0</td>\n",
       "      <td>0.0</td>\n",
       "    </tr>\n",
       "    <tr>\n",
       "      <th>account_age</th>\n",
       "      <td>0</td>\n",
       "      <td>0.0</td>\n",
       "    </tr>\n",
       "    <tr>\n",
       "      <th>account_state</th>\n",
       "      <td>0</td>\n",
       "      <td>0.0</td>\n",
       "    </tr>\n",
       "    <tr>\n",
       "      <th>occupation</th>\n",
       "      <td>0</td>\n",
       "      <td>0.0</td>\n",
       "    </tr>\n",
       "    <tr>\n",
       "      <th>language</th>\n",
       "      <td>0</td>\n",
       "      <td>0.0</td>\n",
       "    </tr>\n",
       "    <tr>\n",
       "      <th>call_direction</th>\n",
       "      <td>0</td>\n",
       "      <td>0.0</td>\n",
       "    </tr>\n",
       "    <tr>\n",
       "      <th>call_duration</th>\n",
       "      <td>0</td>\n",
       "      <td>0.0</td>\n",
       "    </tr>\n",
       "    <tr>\n",
       "      <th>call_outcome</th>\n",
       "      <td>0</td>\n",
       "      <td>0.0</td>\n",
       "    </tr>\n",
       "    <tr>\n",
       "      <th>call_end_date</th>\n",
       "      <td>0</td>\n",
       "      <td>0.0</td>\n",
       "    </tr>\n",
       "    <tr>\n",
       "      <th>call_topics</th>\n",
       "      <td>0</td>\n",
       "      <td>0.0</td>\n",
       "    </tr>\n",
       "    <tr>\n",
       "      <th>call_topic_group</th>\n",
       "      <td>0</td>\n",
       "      <td>0.0</td>\n",
       "    </tr>\n",
       "  </tbody>\n",
       "</table>\n",
       "</div>"
      ],
      "text/plain": [
       "                       Total Nulls in dataset  Percent of Nulls\n",
       "call_id                                     0               0.0\n",
       "destination_person_id                       0               0.0\n",
       "source_person_id                            0               0.0\n",
       "account_age                                 0               0.0\n",
       "account_state                               0               0.0\n",
       "occupation                                  0               0.0\n",
       "language                                    0               0.0\n",
       "call_direction                              0               0.0\n",
       "call_duration                               0               0.0\n",
       "call_outcome                                0               0.0\n",
       "call_end_date                               0               0.0\n",
       "call_topics                                 0               0.0\n",
       "call_topic_group                            0               0.0"
      ]
     },
     "execution_count": 19,
     "metadata": {},
     "output_type": "execute_result"
    }
   ],
   "source": [
    "#Missing data analysis again to see if the missing entries are dropped.\n",
    "draw_missing_data_table(df)"
   ]
  },
  {
   "attachments": {},
   "cell_type": "markdown",
   "metadata": {},
   "source": [
    "# SOLUTIONS PART I"
   ]
  },
  {
   "attachments": {},
   "cell_type": "markdown",
   "metadata": {},
   "source": [
    "# Number 1"
   ]
  },
  {
   "attachments": {},
   "cell_type": "markdown",
   "metadata": {},
   "source": [
    "a. When do we experience the most incoming call traffic?"
   ]
  },
  {
   "attachments": {},
   "cell_type": "markdown",
   "metadata": {},
   "source": [
    "Making sure that the timeStamp column is in datetime format, we convert it using pd.to_datetime() function and then divide timeStamp column into;\n",
    "* Month, \n",
    "* Hours, \n",
    "* Day of Week, \n",
    "* Date and.\n",
    "* Year columns."
   ]
  },
  {
   "cell_type": "code",
   "execution_count": 20,
   "metadata": {},
   "outputs": [],
   "source": [
    "#Function\n",
    "def look_for_unique_values(data_set, column):\n",
    "    print(data_set[column].unique())"
   ]
  },
  {
   "cell_type": "code",
   "execution_count": 21,
   "metadata": {},
   "outputs": [
    {
     "name": "stdout",
     "output_type": "stream",
     "text": [
      "['10/21/17 04:01 AM' '10/21/17 04:04 AM' '10/21/17 04:05 AM' ...\n",
      " '11/03/17 03:09 PM' '11/03/17 03:10 PM' '11/03/17 03:11 PM']\n"
     ]
    }
   ],
   "source": [
    "look_for_unique_values(df, \"call_end_date\",)"
   ]
  },
  {
   "cell_type": "code",
   "execution_count": 22,
   "metadata": {},
   "outputs": [],
   "source": [
    "def convert_and_check(data_set, column_name):\n",
    "    transformed_string = []\n",
    "\n",
    "    try:\n",
    "        for i in data_set[str(column_name)]:\n",
    "            transformed_string.append(str(i).replace(\"-\",\"/\"))\n",
    "        data_set[column_name] = transformed_string\n",
    "        return data_set[column_name]\n",
    "    \n",
    "    except:\n",
    "        data_set.astype({column_name: \"float\"}).dtypes\n",
    "        return data_set.info()"
   ]
  },
  {
   "cell_type": "code",
   "execution_count": 23,
   "metadata": {},
   "outputs": [
    {
     "data": {
      "text/plain": [
       "0        10/21/17 04:01 AM\n",
       "1        10/21/17 04:04 AM\n",
       "2        10/21/17 04:05 AM\n",
       "3        10/21/17 04:06 AM\n",
       "4        10/21/17 04:07 AM\n",
       "               ...        \n",
       "32021    11/03/17 03:08 PM\n",
       "32022    11/03/17 03:09 PM\n",
       "32023    11/03/17 03:09 PM\n",
       "32024    11/03/17 03:10 PM\n",
       "32025    11/03/17 03:11 PM\n",
       "Name: call_end_date, Length: 31931, dtype: object"
      ]
     },
     "execution_count": 23,
     "metadata": {},
     "output_type": "execute_result"
    }
   ],
   "source": [
    "convert_and_check(df,\"call_end_date\",)"
   ]
  },
  {
   "cell_type": "code",
   "execution_count": 24,
   "metadata": {},
   "outputs": [
    {
     "name": "stdout",
     "output_type": "stream",
     "text": [
      "['10/21/17 04:01 AM' '10/21/17 04:04 AM' '10/21/17 04:05 AM' ...\n",
      " '11/03/17 03:09 PM' '11/03/17 03:10 PM' '11/03/17 03:11 PM']\n"
     ]
    }
   ],
   "source": [
    "look_for_unique_values(df, \"call_end_date\",)"
   ]
  },
  {
   "cell_type": "code",
   "execution_count": 25,
   "metadata": {},
   "outputs": [
    {
     "data": {
      "text/plain": [
       "0       0 days 00:00:46.800000\n",
       "1       0 days 00:01:55.800000\n",
       "2              0 days 00:04:54\n",
       "3       0 days 00:03:46.200000\n",
       "4       0 days 00:02:37.200000\n",
       "                 ...          \n",
       "32021          0 days 00:06:33\n",
       "32022          0 days 00:12:54\n",
       "32023          0 days 00:01:15\n",
       "32024   0 days 00:02:58.800000\n",
       "32025   0 days 00:03:04.800000\n",
       "Name: call_duration, Length: 31931, dtype: timedelta64[ns]"
      ]
     },
     "execution_count": 25,
     "metadata": {},
     "output_type": "execute_result"
    }
   ],
   "source": [
    "from datetime import datetime\n",
    "\n",
    "# Convert the 'duration' column to a timedelta object\n",
    "df['call_duration'] = pd.to_timedelta(df['call_duration'], unit ='m')\n",
    "df['call_duration']"
   ]
  },
  {
   "cell_type": "code",
   "execution_count": 26,
   "metadata": {},
   "outputs": [],
   "source": [
    "# Convert the 'start_time' column to a datetime object\n",
    "df['call_end_date'] = pd.to_datetime(df['call_end_date'])"
   ]
  },
  {
   "cell_type": "code",
   "execution_count": 27,
   "metadata": {},
   "outputs": [
    {
     "data": {
      "text/html": [
       "<div>\n",
       "<style scoped>\n",
       "    .dataframe tbody tr th:only-of-type {\n",
       "        vertical-align: middle;\n",
       "    }\n",
       "\n",
       "    .dataframe tbody tr th {\n",
       "        vertical-align: top;\n",
       "    }\n",
       "\n",
       "    .dataframe thead th {\n",
       "        text-align: right;\n",
       "    }\n",
       "</style>\n",
       "<table border=\"1\" class=\"dataframe\">\n",
       "  <thead>\n",
       "    <tr style=\"text-align: right;\">\n",
       "      <th></th>\n",
       "      <th>call_id</th>\n",
       "      <th>destination_person_id</th>\n",
       "      <th>source_person_id</th>\n",
       "      <th>account_age</th>\n",
       "      <th>account_state</th>\n",
       "      <th>occupation</th>\n",
       "      <th>language</th>\n",
       "      <th>call_direction</th>\n",
       "      <th>call_duration</th>\n",
       "      <th>call_outcome</th>\n",
       "      <th>call_end_date</th>\n",
       "      <th>call_topics</th>\n",
       "      <th>call_topic_group</th>\n",
       "      <th>call_start_date</th>\n",
       "    </tr>\n",
       "  </thead>\n",
       "  <tbody>\n",
       "    <tr>\n",
       "      <th>0</th>\n",
       "      <td>2807990</td>\n",
       "      <td>86394</td>\n",
       "      <td>269898</td>\n",
       "      <td>301</td>\n",
       "      <td>In Repayment</td>\n",
       "      <td>Farmer</td>\n",
       "      <td>Luganda</td>\n",
       "      <td>Incoming</td>\n",
       "      <td>0 days 00:00:46.800000</td>\n",
       "      <td>Call Resolved</td>\n",
       "      <td>2017-10-21 04:01:00</td>\n",
       "      <td>Call Dropped</td>\n",
       "      <td>Other</td>\n",
       "      <td>2017-10-21 04:00:13.200</td>\n",
       "    </tr>\n",
       "    <tr>\n",
       "      <th>1</th>\n",
       "      <td>2807991</td>\n",
       "      <td>86394</td>\n",
       "      <td>320367</td>\n",
       "      <td>122</td>\n",
       "      <td>In Repayment</td>\n",
       "      <td>Other</td>\n",
       "      <td>Luganda</td>\n",
       "      <td>Incoming</td>\n",
       "      <td>0 days 00:01:55.800000</td>\n",
       "      <td>Call Resolved</td>\n",
       "      <td>2017-10-21 04:04:00</td>\n",
       "      <td>Code Not Received</td>\n",
       "      <td>Codes</td>\n",
       "      <td>2017-10-21 04:02:04.200</td>\n",
       "    </tr>\n",
       "    <tr>\n",
       "      <th>2</th>\n",
       "      <td>2807992</td>\n",
       "      <td>212967</td>\n",
       "      <td>129042</td>\n",
       "      <td>695</td>\n",
       "      <td>In Repayment</td>\n",
       "      <td>Mechanic / Technician</td>\n",
       "      <td>Luganda</td>\n",
       "      <td>Incoming</td>\n",
       "      <td>0 days 00:04:54</td>\n",
       "      <td>Call Resolved</td>\n",
       "      <td>2017-10-21 04:05:00</td>\n",
       "      <td>RP Remote Technical</td>\n",
       "      <td>Accessory Technical Issue</td>\n",
       "      <td>2017-10-21 04:00:06.000</td>\n",
       "    </tr>\n",
       "    <tr>\n",
       "      <th>3</th>\n",
       "      <td>2807993</td>\n",
       "      <td>114159</td>\n",
       "      <td>372282</td>\n",
       "      <td>22</td>\n",
       "      <td>In Repayment</td>\n",
       "      <td>Farmer</td>\n",
       "      <td>Lango</td>\n",
       "      <td>Incoming</td>\n",
       "      <td>0 days 00:03:46.200000</td>\n",
       "      <td>Call Resolved</td>\n",
       "      <td>2017-10-21 04:06:00</td>\n",
       "      <td>Code Not Received</td>\n",
       "      <td>Codes</td>\n",
       "      <td>2017-10-21 04:02:13.800</td>\n",
       "    </tr>\n",
       "    <tr>\n",
       "      <th>4</th>\n",
       "      <td>2807994</td>\n",
       "      <td>86394</td>\n",
       "      <td>366749</td>\n",
       "      <td>44</td>\n",
       "      <td>In Repayment</td>\n",
       "      <td>Electrician</td>\n",
       "      <td>Luganda</td>\n",
       "      <td>Incoming</td>\n",
       "      <td>0 days 00:02:37.200000</td>\n",
       "      <td>Call Resolved</td>\n",
       "      <td>2017-10-21 04:07:00</td>\n",
       "      <td>Code Not Received</td>\n",
       "      <td>Codes</td>\n",
       "      <td>2017-10-21 04:04:22.800</td>\n",
       "    </tr>\n",
       "  </tbody>\n",
       "</table>\n",
       "</div>"
      ],
      "text/plain": [
       "   call_id  destination_person_id  source_person_id  account_age  \\\n",
       "0  2807990                  86394            269898          301   \n",
       "1  2807991                  86394            320367          122   \n",
       "2  2807992                 212967            129042          695   \n",
       "3  2807993                 114159            372282           22   \n",
       "4  2807994                  86394            366749           44   \n",
       "\n",
       "  account_state             occupation language call_direction  \\\n",
       "0  In Repayment                 Farmer  Luganda       Incoming   \n",
       "1  In Repayment                  Other  Luganda       Incoming   \n",
       "2  In Repayment  Mechanic / Technician  Luganda       Incoming   \n",
       "3  In Repayment                 Farmer    Lango       Incoming   \n",
       "4  In Repayment            Electrician  Luganda       Incoming   \n",
       "\n",
       "           call_duration   call_outcome       call_end_date  \\\n",
       "0 0 days 00:00:46.800000  Call Resolved 2017-10-21 04:01:00   \n",
       "1 0 days 00:01:55.800000  Call Resolved 2017-10-21 04:04:00   \n",
       "2        0 days 00:04:54  Call Resolved 2017-10-21 04:05:00   \n",
       "3 0 days 00:03:46.200000  Call Resolved 2017-10-21 04:06:00   \n",
       "4 0 days 00:02:37.200000  Call Resolved 2017-10-21 04:07:00   \n",
       "\n",
       "           call_topics           call_topic_group         call_start_date  \n",
       "0         Call Dropped                      Other 2017-10-21 04:00:13.200  \n",
       "1    Code Not Received                      Codes 2017-10-21 04:02:04.200  \n",
       "2  RP Remote Technical  Accessory Technical Issue 2017-10-21 04:00:06.000  \n",
       "3    Code Not Received                      Codes 2017-10-21 04:02:13.800  \n",
       "4    Code Not Received                      Codes 2017-10-21 04:04:22.800  "
      ]
     },
     "execution_count": 27,
     "metadata": {},
     "output_type": "execute_result"
    }
   ],
   "source": [
    "# Subtracting the 'call_duration' column from the 'call_end_date' column to get the 'call_start_date' column\n",
    "df['call_start_date'] = df['call_end_date'] - df['call_duration']\n",
    "df.head(5)"
   ]
  },
  {
   "cell_type": "code",
   "execution_count": 28,
   "metadata": {},
   "outputs": [
    {
     "data": {
      "text/html": [
       "<div>\n",
       "<style scoped>\n",
       "    .dataframe tbody tr th:only-of-type {\n",
       "        vertical-align: middle;\n",
       "    }\n",
       "\n",
       "    .dataframe tbody tr th {\n",
       "        vertical-align: top;\n",
       "    }\n",
       "\n",
       "    .dataframe thead th {\n",
       "        text-align: right;\n",
       "    }\n",
       "</style>\n",
       "<table border=\"1\" class=\"dataframe\">\n",
       "  <thead>\n",
       "    <tr style=\"text-align: right;\">\n",
       "      <th></th>\n",
       "      <th>call_id</th>\n",
       "      <th>destination_person_id</th>\n",
       "      <th>source_person_id</th>\n",
       "      <th>account_age</th>\n",
       "      <th>account_state</th>\n",
       "      <th>occupation</th>\n",
       "      <th>language</th>\n",
       "      <th>call_direction</th>\n",
       "      <th>call_duration</th>\n",
       "      <th>call_outcome</th>\n",
       "      <th>call_end_date</th>\n",
       "      <th>call_topics</th>\n",
       "      <th>call_topic_group</th>\n",
       "      <th>call_start_date</th>\n",
       "    </tr>\n",
       "  </thead>\n",
       "  <tbody>\n",
       "    <tr>\n",
       "      <th>0</th>\n",
       "      <td>2807990</td>\n",
       "      <td>86394</td>\n",
       "      <td>269898</td>\n",
       "      <td>301</td>\n",
       "      <td>In Repayment</td>\n",
       "      <td>Farmer</td>\n",
       "      <td>Luganda</td>\n",
       "      <td>Incoming</td>\n",
       "      <td>0 days 00:00:46.800000</td>\n",
       "      <td>Call Resolved</td>\n",
       "      <td>2017-10-21 04:01:00</td>\n",
       "      <td>Call Dropped</td>\n",
       "      <td>Other</td>\n",
       "      <td>2017-10-21 04:00:13.200</td>\n",
       "    </tr>\n",
       "    <tr>\n",
       "      <th>1</th>\n",
       "      <td>2807991</td>\n",
       "      <td>86394</td>\n",
       "      <td>320367</td>\n",
       "      <td>122</td>\n",
       "      <td>In Repayment</td>\n",
       "      <td>Other</td>\n",
       "      <td>Luganda</td>\n",
       "      <td>Incoming</td>\n",
       "      <td>0 days 00:01:55.800000</td>\n",
       "      <td>Call Resolved</td>\n",
       "      <td>2017-10-21 04:04:00</td>\n",
       "      <td>Code Not Received</td>\n",
       "      <td>Codes</td>\n",
       "      <td>2017-10-21 04:02:04.200</td>\n",
       "    </tr>\n",
       "    <tr>\n",
       "      <th>2</th>\n",
       "      <td>2807992</td>\n",
       "      <td>212967</td>\n",
       "      <td>129042</td>\n",
       "      <td>695</td>\n",
       "      <td>In Repayment</td>\n",
       "      <td>Mechanic / Technician</td>\n",
       "      <td>Luganda</td>\n",
       "      <td>Incoming</td>\n",
       "      <td>0 days 00:04:54</td>\n",
       "      <td>Call Resolved</td>\n",
       "      <td>2017-10-21 04:05:00</td>\n",
       "      <td>RP Remote Technical</td>\n",
       "      <td>Accessory Technical Issue</td>\n",
       "      <td>2017-10-21 04:00:06.000</td>\n",
       "    </tr>\n",
       "    <tr>\n",
       "      <th>3</th>\n",
       "      <td>2807993</td>\n",
       "      <td>114159</td>\n",
       "      <td>372282</td>\n",
       "      <td>22</td>\n",
       "      <td>In Repayment</td>\n",
       "      <td>Farmer</td>\n",
       "      <td>Lango</td>\n",
       "      <td>Incoming</td>\n",
       "      <td>0 days 00:03:46.200000</td>\n",
       "      <td>Call Resolved</td>\n",
       "      <td>2017-10-21 04:06:00</td>\n",
       "      <td>Code Not Received</td>\n",
       "      <td>Codes</td>\n",
       "      <td>2017-10-21 04:02:13.800</td>\n",
       "    </tr>\n",
       "    <tr>\n",
       "      <th>4</th>\n",
       "      <td>2807994</td>\n",
       "      <td>86394</td>\n",
       "      <td>366749</td>\n",
       "      <td>44</td>\n",
       "      <td>In Repayment</td>\n",
       "      <td>Electrician</td>\n",
       "      <td>Luganda</td>\n",
       "      <td>Incoming</td>\n",
       "      <td>0 days 00:02:37.200000</td>\n",
       "      <td>Call Resolved</td>\n",
       "      <td>2017-10-21 04:07:00</td>\n",
       "      <td>Code Not Received</td>\n",
       "      <td>Codes</td>\n",
       "      <td>2017-10-21 04:04:22.800</td>\n",
       "    </tr>\n",
       "  </tbody>\n",
       "</table>\n",
       "</div>"
      ],
      "text/plain": [
       "   call_id  destination_person_id  source_person_id  account_age  \\\n",
       "0  2807990                  86394            269898          301   \n",
       "1  2807991                  86394            320367          122   \n",
       "2  2807992                 212967            129042          695   \n",
       "3  2807993                 114159            372282           22   \n",
       "4  2807994                  86394            366749           44   \n",
       "\n",
       "  account_state             occupation language call_direction  \\\n",
       "0  In Repayment                 Farmer  Luganda       Incoming   \n",
       "1  In Repayment                  Other  Luganda       Incoming   \n",
       "2  In Repayment  Mechanic / Technician  Luganda       Incoming   \n",
       "3  In Repayment                 Farmer    Lango       Incoming   \n",
       "4  In Repayment            Electrician  Luganda       Incoming   \n",
       "\n",
       "           call_duration   call_outcome       call_end_date  \\\n",
       "0 0 days 00:00:46.800000  Call Resolved 2017-10-21 04:01:00   \n",
       "1 0 days 00:01:55.800000  Call Resolved 2017-10-21 04:04:00   \n",
       "2        0 days 00:04:54  Call Resolved 2017-10-21 04:05:00   \n",
       "3 0 days 00:03:46.200000  Call Resolved 2017-10-21 04:06:00   \n",
       "4 0 days 00:02:37.200000  Call Resolved 2017-10-21 04:07:00   \n",
       "\n",
       "           call_topics           call_topic_group         call_start_date  \n",
       "0         Call Dropped                      Other 2017-10-21 04:00:13.200  \n",
       "1    Code Not Received                      Codes 2017-10-21 04:02:04.200  \n",
       "2  RP Remote Technical  Accessory Technical Issue 2017-10-21 04:00:06.000  \n",
       "3    Code Not Received                      Codes 2017-10-21 04:02:13.800  \n",
       "4    Code Not Received                      Codes 2017-10-21 04:04:22.800  "
      ]
     },
     "execution_count": 28,
     "metadata": {},
     "output_type": "execute_result"
    }
   ],
   "source": [
    "df.head(5)"
   ]
  },
  {
   "cell_type": "code",
   "execution_count": 29,
   "metadata": {},
   "outputs": [],
   "source": [
    "# Convert the date column to datetime objects using pd.to_datetime()\n",
    "df['call_start_date'] = pd.to_datetime(df['call_start_date'])\n"
   ]
  },
  {
   "cell_type": "code",
   "execution_count": 30,
   "metadata": {},
   "outputs": [
    {
     "data": {
      "text/html": [
       "<div>\n",
       "<style scoped>\n",
       "    .dataframe tbody tr th:only-of-type {\n",
       "        vertical-align: middle;\n",
       "    }\n",
       "\n",
       "    .dataframe tbody tr th {\n",
       "        vertical-align: top;\n",
       "    }\n",
       "\n",
       "    .dataframe thead th {\n",
       "        text-align: right;\n",
       "    }\n",
       "</style>\n",
       "<table border=\"1\" class=\"dataframe\">\n",
       "  <thead>\n",
       "    <tr style=\"text-align: right;\">\n",
       "      <th></th>\n",
       "      <th>call_id</th>\n",
       "      <th>destination_person_id</th>\n",
       "      <th>source_person_id</th>\n",
       "      <th>account_age</th>\n",
       "      <th>account_state</th>\n",
       "      <th>occupation</th>\n",
       "      <th>language</th>\n",
       "      <th>call_direction</th>\n",
       "      <th>call_duration</th>\n",
       "      <th>call_outcome</th>\n",
       "      <th>...</th>\n",
       "      <th>call_topics</th>\n",
       "      <th>call_topic_group</th>\n",
       "      <th>call_start_date</th>\n",
       "      <th>Year</th>\n",
       "      <th>Month</th>\n",
       "      <th>Day</th>\n",
       "      <th>Day_of_Week</th>\n",
       "      <th>Date</th>\n",
       "      <th>Hour</th>\n",
       "      <th>Minute</th>\n",
       "    </tr>\n",
       "  </thead>\n",
       "  <tbody>\n",
       "    <tr>\n",
       "      <th>0</th>\n",
       "      <td>2807990</td>\n",
       "      <td>86394</td>\n",
       "      <td>269898</td>\n",
       "      <td>301</td>\n",
       "      <td>In Repayment</td>\n",
       "      <td>Farmer</td>\n",
       "      <td>Luganda</td>\n",
       "      <td>Incoming</td>\n",
       "      <td>0 days 00:00:46.800000</td>\n",
       "      <td>Call Resolved</td>\n",
       "      <td>...</td>\n",
       "      <td>Call Dropped</td>\n",
       "      <td>Other</td>\n",
       "      <td>2017-10-21 04:00:13.200</td>\n",
       "      <td>2017</td>\n",
       "      <td>10</td>\n",
       "      <td>21</td>\n",
       "      <td>5</td>\n",
       "      <td>2017-10-21</td>\n",
       "      <td>4</td>\n",
       "      <td>0</td>\n",
       "    </tr>\n",
       "    <tr>\n",
       "      <th>1</th>\n",
       "      <td>2807991</td>\n",
       "      <td>86394</td>\n",
       "      <td>320367</td>\n",
       "      <td>122</td>\n",
       "      <td>In Repayment</td>\n",
       "      <td>Other</td>\n",
       "      <td>Luganda</td>\n",
       "      <td>Incoming</td>\n",
       "      <td>0 days 00:01:55.800000</td>\n",
       "      <td>Call Resolved</td>\n",
       "      <td>...</td>\n",
       "      <td>Code Not Received</td>\n",
       "      <td>Codes</td>\n",
       "      <td>2017-10-21 04:02:04.200</td>\n",
       "      <td>2017</td>\n",
       "      <td>10</td>\n",
       "      <td>21</td>\n",
       "      <td>5</td>\n",
       "      <td>2017-10-21</td>\n",
       "      <td>4</td>\n",
       "      <td>2</td>\n",
       "    </tr>\n",
       "    <tr>\n",
       "      <th>2</th>\n",
       "      <td>2807992</td>\n",
       "      <td>212967</td>\n",
       "      <td>129042</td>\n",
       "      <td>695</td>\n",
       "      <td>In Repayment</td>\n",
       "      <td>Mechanic / Technician</td>\n",
       "      <td>Luganda</td>\n",
       "      <td>Incoming</td>\n",
       "      <td>0 days 00:04:54</td>\n",
       "      <td>Call Resolved</td>\n",
       "      <td>...</td>\n",
       "      <td>RP Remote Technical</td>\n",
       "      <td>Accessory Technical Issue</td>\n",
       "      <td>2017-10-21 04:00:06.000</td>\n",
       "      <td>2017</td>\n",
       "      <td>10</td>\n",
       "      <td>21</td>\n",
       "      <td>5</td>\n",
       "      <td>2017-10-21</td>\n",
       "      <td>4</td>\n",
       "      <td>0</td>\n",
       "    </tr>\n",
       "    <tr>\n",
       "      <th>3</th>\n",
       "      <td>2807993</td>\n",
       "      <td>114159</td>\n",
       "      <td>372282</td>\n",
       "      <td>22</td>\n",
       "      <td>In Repayment</td>\n",
       "      <td>Farmer</td>\n",
       "      <td>Lango</td>\n",
       "      <td>Incoming</td>\n",
       "      <td>0 days 00:03:46.200000</td>\n",
       "      <td>Call Resolved</td>\n",
       "      <td>...</td>\n",
       "      <td>Code Not Received</td>\n",
       "      <td>Codes</td>\n",
       "      <td>2017-10-21 04:02:13.800</td>\n",
       "      <td>2017</td>\n",
       "      <td>10</td>\n",
       "      <td>21</td>\n",
       "      <td>5</td>\n",
       "      <td>2017-10-21</td>\n",
       "      <td>4</td>\n",
       "      <td>2</td>\n",
       "    </tr>\n",
       "    <tr>\n",
       "      <th>4</th>\n",
       "      <td>2807994</td>\n",
       "      <td>86394</td>\n",
       "      <td>366749</td>\n",
       "      <td>44</td>\n",
       "      <td>In Repayment</td>\n",
       "      <td>Electrician</td>\n",
       "      <td>Luganda</td>\n",
       "      <td>Incoming</td>\n",
       "      <td>0 days 00:02:37.200000</td>\n",
       "      <td>Call Resolved</td>\n",
       "      <td>...</td>\n",
       "      <td>Code Not Received</td>\n",
       "      <td>Codes</td>\n",
       "      <td>2017-10-21 04:04:22.800</td>\n",
       "      <td>2017</td>\n",
       "      <td>10</td>\n",
       "      <td>21</td>\n",
       "      <td>5</td>\n",
       "      <td>2017-10-21</td>\n",
       "      <td>4</td>\n",
       "      <td>4</td>\n",
       "    </tr>\n",
       "  </tbody>\n",
       "</table>\n",
       "<p>5 rows × 21 columns</p>\n",
       "</div>"
      ],
      "text/plain": [
       "   call_id  destination_person_id  source_person_id  account_age  \\\n",
       "0  2807990                  86394            269898          301   \n",
       "1  2807991                  86394            320367          122   \n",
       "2  2807992                 212967            129042          695   \n",
       "3  2807993                 114159            372282           22   \n",
       "4  2807994                  86394            366749           44   \n",
       "\n",
       "  account_state             occupation language call_direction  \\\n",
       "0  In Repayment                 Farmer  Luganda       Incoming   \n",
       "1  In Repayment                  Other  Luganda       Incoming   \n",
       "2  In Repayment  Mechanic / Technician  Luganda       Incoming   \n",
       "3  In Repayment                 Farmer    Lango       Incoming   \n",
       "4  In Repayment            Electrician  Luganda       Incoming   \n",
       "\n",
       "           call_duration   call_outcome  ...          call_topics  \\\n",
       "0 0 days 00:00:46.800000  Call Resolved  ...         Call Dropped   \n",
       "1 0 days 00:01:55.800000  Call Resolved  ...    Code Not Received   \n",
       "2        0 days 00:04:54  Call Resolved  ...  RP Remote Technical   \n",
       "3 0 days 00:03:46.200000  Call Resolved  ...    Code Not Received   \n",
       "4 0 days 00:02:37.200000  Call Resolved  ...    Code Not Received   \n",
       "\n",
       "            call_topic_group         call_start_date  Year  Month  Day  \\\n",
       "0                      Other 2017-10-21 04:00:13.200  2017     10   21   \n",
       "1                      Codes 2017-10-21 04:02:04.200  2017     10   21   \n",
       "2  Accessory Technical Issue 2017-10-21 04:00:06.000  2017     10   21   \n",
       "3                      Codes 2017-10-21 04:02:13.800  2017     10   21   \n",
       "4                      Codes 2017-10-21 04:04:22.800  2017     10   21   \n",
       "\n",
       "   Day_of_Week        Date Hour  Minute  \n",
       "0            5  2017-10-21    4       0  \n",
       "1            5  2017-10-21    4       2  \n",
       "2            5  2017-10-21    4       0  \n",
       "3            5  2017-10-21    4       2  \n",
       "4            5  2017-10-21    4       4  \n",
       "\n",
       "[5 rows x 21 columns]"
      ]
     },
     "execution_count": 30,
     "metadata": {},
     "output_type": "execute_result"
    }
   ],
   "source": [
    "# access the 'components' attribute of the 'date' column\n",
    "df['Year'] = df['call_start_date'].dt.year\n",
    "df['Month'] = df['call_start_date'].dt.month\n",
    "df['Day'] = df['call_start_date'].dt.day\n",
    "df[\"Day_of_Week\"]=df[\"call_start_date\"].dt.day_of_week\n",
    "df['Date']=df['call_end_date'].dt.date\n",
    "df['Hour'] = df['call_start_date'].dt.hour\n",
    "df['Minute'] = df['call_start_date'].dt.minute\n",
    "df.head(5)"
   ]
  },
  {
   "cell_type": "code",
   "execution_count": 31,
   "metadata": {},
   "outputs": [
    {
     "data": {
      "text/html": [
       "<div>\n",
       "<style scoped>\n",
       "    .dataframe tbody tr th:only-of-type {\n",
       "        vertical-align: middle;\n",
       "    }\n",
       "\n",
       "    .dataframe tbody tr th {\n",
       "        vertical-align: top;\n",
       "    }\n",
       "\n",
       "    .dataframe thead th {\n",
       "        text-align: right;\n",
       "    }\n",
       "</style>\n",
       "<table border=\"1\" class=\"dataframe\">\n",
       "  <thead>\n",
       "    <tr style=\"text-align: right;\">\n",
       "      <th></th>\n",
       "      <th>call_start_date</th>\n",
       "      <th>call_end_date</th>\n",
       "    </tr>\n",
       "  </thead>\n",
       "  <tbody>\n",
       "    <tr>\n",
       "      <th>0</th>\n",
       "      <td>2017-10-21 04:00:13.200</td>\n",
       "      <td>2017-10-21 04:01:00</td>\n",
       "    </tr>\n",
       "    <tr>\n",
       "      <th>1</th>\n",
       "      <td>2017-10-21 04:02:04.200</td>\n",
       "      <td>2017-10-21 04:04:00</td>\n",
       "    </tr>\n",
       "    <tr>\n",
       "      <th>2</th>\n",
       "      <td>2017-10-21 04:00:06.000</td>\n",
       "      <td>2017-10-21 04:05:00</td>\n",
       "    </tr>\n",
       "    <tr>\n",
       "      <th>3</th>\n",
       "      <td>2017-10-21 04:02:13.800</td>\n",
       "      <td>2017-10-21 04:06:00</td>\n",
       "    </tr>\n",
       "    <tr>\n",
       "      <th>4</th>\n",
       "      <td>2017-10-21 04:04:22.800</td>\n",
       "      <td>2017-10-21 04:07:00</td>\n",
       "    </tr>\n",
       "    <tr>\n",
       "      <th>...</th>\n",
       "      <td>...</td>\n",
       "      <td>...</td>\n",
       "    </tr>\n",
       "    <tr>\n",
       "      <th>32021</th>\n",
       "      <td>2017-11-03 15:01:27.000</td>\n",
       "      <td>2017-11-03 15:08:00</td>\n",
       "    </tr>\n",
       "    <tr>\n",
       "      <th>32022</th>\n",
       "      <td>2017-11-03 14:56:06.000</td>\n",
       "      <td>2017-11-03 15:09:00</td>\n",
       "    </tr>\n",
       "    <tr>\n",
       "      <th>32023</th>\n",
       "      <td>2017-11-03 15:07:45.000</td>\n",
       "      <td>2017-11-03 15:09:00</td>\n",
       "    </tr>\n",
       "    <tr>\n",
       "      <th>32024</th>\n",
       "      <td>2017-11-03 15:07:01.200</td>\n",
       "      <td>2017-11-03 15:10:00</td>\n",
       "    </tr>\n",
       "    <tr>\n",
       "      <th>32025</th>\n",
       "      <td>2017-11-03 15:07:55.200</td>\n",
       "      <td>2017-11-03 15:11:00</td>\n",
       "    </tr>\n",
       "  </tbody>\n",
       "</table>\n",
       "<p>31931 rows × 2 columns</p>\n",
       "</div>"
      ],
      "text/plain": [
       "              call_start_date       call_end_date\n",
       "0     2017-10-21 04:00:13.200 2017-10-21 04:01:00\n",
       "1     2017-10-21 04:02:04.200 2017-10-21 04:04:00\n",
       "2     2017-10-21 04:00:06.000 2017-10-21 04:05:00\n",
       "3     2017-10-21 04:02:13.800 2017-10-21 04:06:00\n",
       "4     2017-10-21 04:04:22.800 2017-10-21 04:07:00\n",
       "...                       ...                 ...\n",
       "32021 2017-11-03 15:01:27.000 2017-11-03 15:08:00\n",
       "32022 2017-11-03 14:56:06.000 2017-11-03 15:09:00\n",
       "32023 2017-11-03 15:07:45.000 2017-11-03 15:09:00\n",
       "32024 2017-11-03 15:07:01.200 2017-11-03 15:10:00\n",
       "32025 2017-11-03 15:07:55.200 2017-11-03 15:11:00\n",
       "\n",
       "[31931 rows x 2 columns]"
      ]
     },
     "execution_count": 31,
     "metadata": {},
     "output_type": "execute_result"
    }
   ],
   "source": [
    "# lets us segment the data set to only contain those columns of necessity\n",
    "Call_time_summary_data= df[['call_start_date', 'call_end_date']]\n",
    "\n",
    "Call_time_summary_data\n"
   ]
  },
  {
   "attachments": {},
   "cell_type": "markdown",
   "metadata": {},
   "source": [
    "* Incoming Calls Received in October and November"
   ]
  },
  {
   "cell_type": "code",
   "execution_count": 32,
   "metadata": {},
   "outputs": [
    {
     "data": {
      "image/png": "[encoded data removed]",
      "text/plain": [
       "<Figure size 1000x500 with 1 Axes>"
      ]
     },
     "metadata": {},
     "output_type": "display_data"
    }
   ],
   "source": [
    "plt.figure(figsize=(10, 5))\n",
    "plt.title(\"A Graph Showing Incoming Calls Traffic Received in October and November\")\n",
    "sbn.countplot(x=df['Month'], hue=df['call_direction'], hue_order=['Incoming'])\n",
    "plt.show()"
   ]
  },
  {
   "attachments": {},
   "cell_type": "markdown",
   "metadata": {},
   "source": [
    "> b. How this varries over the course of the day"
   ]
  },
  {
   "attachments": {},
   "cell_type": "markdown",
   "metadata": {},
   "source": [
    "* Calls Received on Each Day"
   ]
  },
  {
   "cell_type": "code",
   "execution_count": 33,
   "metadata": {},
   "outputs": [
    {
     "data": {
      "text/plain": [
       "(array([ 0,  1,  2,  3,  4,  5,  6,  7,  8,  9, 10, 11, 12, 13]),\n",
       " [Text(0, 0, '2017-10-21'),\n",
       "  Text(1, 0, '2017-10-22'),\n",
       "  Text(2, 0, '2017-10-23'),\n",
       "  Text(3, 0, '2017-10-24'),\n",
       "  Text(4, 0, '2017-10-25'),\n",
       "  Text(5, 0, '2017-10-26'),\n",
       "  Text(6, 0, '2017-10-27'),\n",
       "  Text(7, 0, '2017-10-28'),\n",
       "  Text(8, 0, '2017-10-29'),\n",
       "  Text(9, 0, '2017-10-30'),\n",
       "  Text(10, 0, '2017-10-31'),\n",
       "  Text(11, 0, '2017-11-01'),\n",
       "  Text(12, 0, '2017-11-02'),\n",
       "  Text(13, 0, '2017-11-03')])"
      ]
     },
     "execution_count": 33,
     "metadata": {},
     "output_type": "execute_result"
    },
    {
     "data": {
      "image/png": "[encoded data removed]",
      "text/plain": [
       "<Figure size 1000x500 with 1 Axes>"
      ]
     },
     "metadata": {},
     "output_type": "display_data"
    }
   ],
   "source": [
    "plt.figure(figsize = (10,5))\n",
    "plt.title(\"A graph Showing Incoming Call Traffic Received on Each Day\")\n",
    "sbn.countplot(x = df['Date'],hue = df['call_direction'],hue_order=['Incoming'])\n",
    "plt.xticks(rotation = 45) # Rotates X-Axis Ticks by 45-degrees\n"
   ]
  },
  {
   "cell_type": "code",
   "execution_count": 34,
   "metadata": {},
   "outputs": [
    {
     "data": {
      "text/plain": [
       "<AxesSubplot:title={'center':'Graph Depicting Call Traffic Frequency Per Hour For Each Day'}, xlabel='Date', ylabel='count'>"
      ]
     },
     "execution_count": 34,
     "metadata": {},
     "output_type": "execute_result"
    },
    {
     "data": {
      "image/png": "[encoded data removed]",
      "text/plain": [
       "<Figure size 2000x700 with 1 Axes>"
      ]
     },
     "metadata": {},
     "output_type": "display_data"
    }
   ],
   "source": [
    "plt.figure(figsize = (20,7))\n",
    "plt.title(\"Graph Depicting Call Traffic Frequency Per Hour For Each Day\")\n",
    "sbn.countplot(x='Date', data = df[df['call_direction']=='Incoming'], hue = 'Hour')"
   ]
  },
  {
   "attachments": {},
   "cell_type": "markdown",
   "metadata": {},
   "source": [
    "> c.Comparison to the Number of Outgoing Calls Made Over The Course of The Day"
   ]
  },
  {
   "cell_type": "code",
   "execution_count": 35,
   "metadata": {},
   "outputs": [
    {
     "data": {
      "text/html": [
       "<div>\n",
       "<style scoped>\n",
       "    .dataframe tbody tr th:only-of-type {\n",
       "        vertical-align: middle;\n",
       "    }\n",
       "\n",
       "    .dataframe tbody tr th {\n",
       "        vertical-align: top;\n",
       "    }\n",
       "\n",
       "    .dataframe thead th {\n",
       "        text-align: right;\n",
       "    }\n",
       "</style>\n",
       "<table border=\"1\" class=\"dataframe\">\n",
       "  <thead>\n",
       "    <tr style=\"text-align: right;\">\n",
       "      <th>Month</th>\n",
       "      <th>10</th>\n",
       "      <th>11</th>\n",
       "      <th>Total</th>\n",
       "    </tr>\n",
       "    <tr>\n",
       "      <th>call_direction</th>\n",
       "      <th></th>\n",
       "      <th></th>\n",
       "      <th></th>\n",
       "    </tr>\n",
       "  </thead>\n",
       "  <tbody>\n",
       "    <tr>\n",
       "      <th>Incoming</th>\n",
       "      <td>19739</td>\n",
       "      <td>4490</td>\n",
       "      <td>24229</td>\n",
       "    </tr>\n",
       "    <tr>\n",
       "      <th>Outgoing</th>\n",
       "      <td>6454</td>\n",
       "      <td>1248</td>\n",
       "      <td>7702</td>\n",
       "    </tr>\n",
       "    <tr>\n",
       "      <th>Total</th>\n",
       "      <td>26193</td>\n",
       "      <td>5738</td>\n",
       "      <td>31931</td>\n",
       "    </tr>\n",
       "  </tbody>\n",
       "</table>\n",
       "</div>"
      ],
      "text/plain": [
       "Month              10    11  Total\n",
       "call_direction                    \n",
       "Incoming        19739  4490  24229\n",
       "Outgoing         6454  1248   7702\n",
       "Total           26193  5738  31931"
      ]
     },
     "execution_count": 35,
     "metadata": {},
     "output_type": "execute_result"
    }
   ],
   "source": [
    "pd.crosstab(df.call_direction,df.Month,margins=True, margins_name= 'Total')"
   ]
  },
  {
   "cell_type": "code",
   "execution_count": 36,
   "metadata": {},
   "outputs": [
    {
     "data": {
      "text/html": [
       "<div>\n",
       "<style scoped>\n",
       "    .dataframe tbody tr th:only-of-type {\n",
       "        vertical-align: middle;\n",
       "    }\n",
       "\n",
       "    .dataframe tbody tr th {\n",
       "        vertical-align: top;\n",
       "    }\n",
       "\n",
       "    .dataframe thead th {\n",
       "        text-align: right;\n",
       "    }\n",
       "</style>\n",
       "<table border=\"1\" class=\"dataframe\">\n",
       "  <thead>\n",
       "    <tr style=\"text-align: right;\">\n",
       "      <th>call_direction</th>\n",
       "      <th>Incoming</th>\n",
       "      <th>Outgoing</th>\n",
       "      <th>Total</th>\n",
       "    </tr>\n",
       "    <tr>\n",
       "      <th>Date</th>\n",
       "      <th></th>\n",
       "      <th></th>\n",
       "      <th></th>\n",
       "    </tr>\n",
       "  </thead>\n",
       "  <tbody>\n",
       "    <tr>\n",
       "      <th>2017-10-21</th>\n",
       "      <td>1955</td>\n",
       "      <td>467</td>\n",
       "      <td>2422</td>\n",
       "    </tr>\n",
       "    <tr>\n",
       "      <th>2017-10-22</th>\n",
       "      <td>1908</td>\n",
       "      <td>666</td>\n",
       "      <td>2574</td>\n",
       "    </tr>\n",
       "    <tr>\n",
       "      <th>2017-10-23</th>\n",
       "      <td>1804</td>\n",
       "      <td>703</td>\n",
       "      <td>2507</td>\n",
       "    </tr>\n",
       "    <tr>\n",
       "      <th>2017-10-24</th>\n",
       "      <td>2241</td>\n",
       "      <td>604</td>\n",
       "      <td>2845</td>\n",
       "    </tr>\n",
       "    <tr>\n",
       "      <th>2017-10-25</th>\n",
       "      <td>1949</td>\n",
       "      <td>757</td>\n",
       "      <td>2706</td>\n",
       "    </tr>\n",
       "    <tr>\n",
       "      <th>2017-10-26</th>\n",
       "      <td>1812</td>\n",
       "      <td>593</td>\n",
       "      <td>2405</td>\n",
       "    </tr>\n",
       "    <tr>\n",
       "      <th>2017-10-27</th>\n",
       "      <td>1657</td>\n",
       "      <td>627</td>\n",
       "      <td>2284</td>\n",
       "    </tr>\n",
       "    <tr>\n",
       "      <th>2017-10-28</th>\n",
       "      <td>1499</td>\n",
       "      <td>461</td>\n",
       "      <td>1960</td>\n",
       "    </tr>\n",
       "    <tr>\n",
       "      <th>2017-10-29</th>\n",
       "      <td>1628</td>\n",
       "      <td>407</td>\n",
       "      <td>2035</td>\n",
       "    </tr>\n",
       "    <tr>\n",
       "      <th>2017-10-30</th>\n",
       "      <td>1710</td>\n",
       "      <td>587</td>\n",
       "      <td>2297</td>\n",
       "    </tr>\n",
       "    <tr>\n",
       "      <th>2017-10-31</th>\n",
       "      <td>1576</td>\n",
       "      <td>582</td>\n",
       "      <td>2158</td>\n",
       "    </tr>\n",
       "    <tr>\n",
       "      <th>2017-11-01</th>\n",
       "      <td>1714</td>\n",
       "      <td>473</td>\n",
       "      <td>2187</td>\n",
       "    </tr>\n",
       "    <tr>\n",
       "      <th>2017-11-02</th>\n",
       "      <td>1611</td>\n",
       "      <td>348</td>\n",
       "      <td>1959</td>\n",
       "    </tr>\n",
       "    <tr>\n",
       "      <th>2017-11-03</th>\n",
       "      <td>1165</td>\n",
       "      <td>427</td>\n",
       "      <td>1592</td>\n",
       "    </tr>\n",
       "    <tr>\n",
       "      <th>Total</th>\n",
       "      <td>24229</td>\n",
       "      <td>7702</td>\n",
       "      <td>31931</td>\n",
       "    </tr>\n",
       "  </tbody>\n",
       "</table>\n",
       "</div>"
      ],
      "text/plain": [
       "call_direction  Incoming  Outgoing  Total\n",
       "Date                                     \n",
       "2017-10-21          1955       467   2422\n",
       "2017-10-22          1908       666   2574\n",
       "2017-10-23          1804       703   2507\n",
       "2017-10-24          2241       604   2845\n",
       "2017-10-25          1949       757   2706\n",
       "2017-10-26          1812       593   2405\n",
       "2017-10-27          1657       627   2284\n",
       "2017-10-28          1499       461   1960\n",
       "2017-10-29          1628       407   2035\n",
       "2017-10-30          1710       587   2297\n",
       "2017-10-31          1576       582   2158\n",
       "2017-11-01          1714       473   2187\n",
       "2017-11-02          1611       348   1959\n",
       "2017-11-03          1165       427   1592\n",
       "Total              24229      7702  31931"
      ]
     },
     "execution_count": 36,
     "metadata": {},
     "output_type": "execute_result"
    }
   ],
   "source": [
    "pd.crosstab(df.Date,df.call_direction,margins=True, margins_name= 'Total')"
   ]
  },
  {
   "cell_type": "code",
   "execution_count": 37,
   "metadata": {},
   "outputs": [
    {
     "data": {
      "text/plain": [
       "(array([ 0,  1,  2,  3,  4,  5,  6,  7,  8,  9, 10, 11, 12, 13]),\n",
       " [Text(0, 0, '2017-10-21'),\n",
       "  Text(1, 0, '2017-10-22'),\n",
       "  Text(2, 0, '2017-10-23'),\n",
       "  Text(3, 0, '2017-10-24'),\n",
       "  Text(4, 0, '2017-10-25'),\n",
       "  Text(5, 0, '2017-10-26'),\n",
       "  Text(6, 0, '2017-10-27'),\n",
       "  Text(7, 0, '2017-10-28'),\n",
       "  Text(8, 0, '2017-10-29'),\n",
       "  Text(9, 0, '2017-10-30'),\n",
       "  Text(10, 0, '2017-10-31'),\n",
       "  Text(11, 0, '2017-11-01'),\n",
       "  Text(12, 0, '2017-11-02'),\n",
       "  Text(13, 0, '2017-11-03')])"
      ]
     },
     "execution_count": 37,
     "metadata": {},
     "output_type": "execute_result"
    },
    {
     "data": {
      "image/png": "[encoded data removed]",
      "text/plain": [
       "<Figure size 2000x800 with 1 Axes>"
      ]
     },
     "metadata": {},
     "output_type": "display_data"
    }
   ],
   "source": [
    "plt.figure(figsize = (20,8))\n",
    "plt.title(\"Graph showing the count of Call_direction per day\")\n",
    "sbn.countplot(x='Date',hue='call_direction',data = df)\n",
    "plt.xticks(rotation = 45) # Rotates X-Axis Ticks by 45-degrees"
   ]
  },
  {
   "cell_type": "code",
   "execution_count": 38,
   "metadata": {},
   "outputs": [
    {
     "data": {
      "text/plain": [
       "<AxesSubplot:title={'center':'Graph Showing the Count of Call_direction Per Month'}, xlabel='Month', ylabel='count'>"
      ]
     },
     "execution_count": 38,
     "metadata": {},
     "output_type": "execute_result"
    },
    {
     "data": {
      "image/png": "[encoded data removed]",
      "text/plain": [
       "<Figure size 2000x1000 with 1 Axes>"
      ]
     },
     "metadata": {},
     "output_type": "display_data"
    }
   ],
   "source": [
    "plt.figure(figsize = (20,10))\n",
    "plt.title(\"Graph Showing the Count of Call_direction Per Month\")\n",
    "sbn.countplot(x= df['Month'],hue = df['call_direction'])"
   ]
  },
  {
   "attachments": {},
   "cell_type": "markdown",
   "metadata": {},
   "source": [
    "### QN 2:How many customers do we talk to each day? How many customers called Maven Cloud limited multiple times in the 2 week period? What were we discussing with the customers who contacted us multiple times?"
   ]
  },
  {
   "attachments": {},
   "cell_type": "markdown",
   "metadata": {},
   "source": [
    "# SOLUTIONS PART 2"
   ]
  },
  {
   "cell_type": "code",
   "execution_count": 39,
   "metadata": {},
   "outputs": [],
   "source": [
    "from datetime import datetime\n",
    "# converting the 'call_end_date' column to a datetime object\n",
    "df['call_end_date'] = pd.to_datetime(df['call_end_date'])"
   ]
  },
  {
   "cell_type": "code",
   "execution_count": 40,
   "metadata": {},
   "outputs": [
    {
     "name": "stdout",
     "output_type": "stream",
     "text": [
      "count                   31931\n",
      "unique                  10943\n",
      "top       2017-10-21 12:52:00\n",
      "freq                       19\n",
      "first     2017-10-21 04:01:00\n",
      "last      2017-11-03 15:11:00\n",
      "Name: call_end_date, dtype: object\n"
     ]
    },
    {
     "name": "stderr",
     "output_type": "stream",
     "text": [
      "/home/future/anaconda3/lib/python3.7/site-packages/ipykernel_launcher.py:2: FutureWarning: Treating datetime data as categorical rather than numeric in `.describe` is deprecated and will be removed in a future version of pandas. Specify `datetime_is_numeric=True` to silence this warning and adopt the future behavior now.\n",
      "  \n"
     ]
    }
   ],
   "source": [
    "#'call_end_date' column summary \n",
    "print(df['call_end_date'].describe())"
   ]
  },
  {
   "attachments": {},
   "cell_type": "markdown",
   "metadata": {},
   "source": [
    "> Solution a: Customers we Talk to Each Day"
   ]
  },
  {
   "cell_type": "code",
   "execution_count": 41,
   "metadata": {},
   "outputs": [],
   "source": [
    "# accessing the 'components' of the 'date' column\n",
    "df['Date']=df['call_end_date'].dt.date"
   ]
  },
  {
   "cell_type": "code",
   "execution_count": 42,
   "metadata": {},
   "outputs": [
    {
     "name": "stdout",
     "output_type": "stream",
     "text": [
      "Date\n",
      "2017-10-21    2422\n",
      "2017-10-22    2574\n",
      "2017-10-23    2507\n",
      "2017-10-24    2845\n",
      "2017-10-25    2706\n",
      "2017-10-26    2405\n",
      "2017-10-27    2284\n",
      "2017-10-28    1960\n",
      "2017-10-29    2035\n",
      "2017-10-30    2297\n",
      "2017-10-31    2158\n",
      "2017-11-01    2187\n",
      "2017-11-02    1959\n",
      "2017-11-03    1592\n",
      "Name: call_id, dtype: int64\n"
     ]
    }
   ],
   "source": [
    "#Grouping the DataFrame by Topics and counting the number of IDs for each topic\n",
    "counts1234 = df.groupby('Date')['call_id'].count()\n",
    "\n",
    "print(counts1234)\n"
   ]
  },
  {
   "attachments": {},
   "cell_type": "markdown",
   "metadata": {},
   "source": [
    "> Solution b:Customers that Called Maven Cloud limited multiple times in 2 weeks period"
   ]
  },
  {
   "cell_type": "code",
   "execution_count": 43,
   "metadata": {},
   "outputs": [],
   "source": [
    "# Using source_person_id as a unique identifier to find where the unique id appeared atleast once\n",
    "value_counts = df['source_person_id'].value_counts()\n",
    "output= value_counts[value_counts > 2].index.tolist()"
   ]
  },
  {
   "cell_type": "code",
   "execution_count": 44,
   "metadata": {},
   "outputs": [
    {
     "name": "stdout",
     "output_type": "stream",
     "text": [
      "2438\n"
     ]
    }
   ],
   "source": [
    "#We now get the value counts total\n",
    "\n",
    "result = pd.Series(output)\n",
    "\n",
    "# Get the value counts\n",
    "counts = result.value_counts().sum()\n",
    "\n",
    "# Print the result\n",
    "print(counts)"
   ]
  },
  {
   "cell_type": "code",
   "execution_count": 45,
   "metadata": {},
   "outputs": [],
   "source": [
    "# Using destination_person_id, we find where the unique id is appearing atleast once\n",
    "value_counts2 = df['destination_person_id'].value_counts()\n",
    "output2 = value_counts2[value_counts2 > 2].index.tolist()"
   ]
  },
  {
   "cell_type": "code",
   "execution_count": 46,
   "metadata": {},
   "outputs": [
    {
     "name": "stdout",
     "output_type": "stream",
     "text": [
      "758\n"
     ]
    }
   ],
   "source": [
    "#Hence we get the value counts totals.\n",
    "\n",
    "output2 = pd.Series(output2)\n",
    "\n",
    "# Get the value counts\n",
    "counts2 = output2.value_counts().sum()\n",
    "\n",
    "# Print the result\n",
    "print(counts2)"
   ]
  },
  {
   "attachments": {},
   "cell_type": "markdown",
   "metadata": {},
   "source": [
    "> Solution c: Discussions with Customers who Contacted us multiple times"
   ]
  },
  {
   "cell_type": "code",
   "execution_count": 47,
   "metadata": {},
   "outputs": [
    {
     "name": "stdout",
     "output_type": "stream",
     "text": [
      "['Other' 'Codes' 'Accessory Technical Issue' 'General ' 'Finance' 'Sales'\n",
      " 'Technical/ Battery Performance' 'Accessory Non-Technical Issue'\n",
      " 'Accounts' 'Survey' 'Portfolio Health '\n",
      " 'Unsellable Kit (Association Errors)']\n"
     ]
    }
   ],
   "source": [
    "# Filtering the records where destination_person_id > 2 and selecting only the \"call_topic_group\" column\n",
    "topics_when_destination_person_id_greater_than_2 = df.loc[df['destination_person_id'] > 2, 'call_topic_group']\n",
    "\n",
    "# Printing the result\n",
    "print(topics_when_destination_person_id_greater_than_2.unique())\n"
   ]
  },
  {
   "cell_type": "code",
   "execution_count": 48,
   "metadata": {},
   "outputs": [
    {
     "name": "stdout",
     "output_type": "stream",
     "text": [
      "['Other' 'Codes' 'Accessory Technical Issue' 'General ' 'Finance' 'Sales'\n",
      " 'Technical/ Battery Performance' 'Accessory Non-Technical Issue'\n",
      " 'Accounts' 'Survey' 'Portfolio Health '\n",
      " 'Unsellable Kit (Association Errors)']\n"
     ]
    }
   ],
   "source": [
    "# Filtering those records where source_person_id > 2 and selecting only the \"call_topic_group\" column\n",
    "topics_when_source_person_id_greater_than_2 = df.loc[df['source_person_id'] > 2, 'call_topic_group']\n",
    "\n",
    "# Printing the result\n",
    "print(topics_when_source_person_id_greater_than_2.unique())"
   ]
  }
 ],
 "metadata": {
  "kernelspec": {
   "display_name": "base",
   "language": "python",
   "name": "python3"
  },
  "language_info": {
   "codemirror_mode": {
    "name": "ipython",
    "version": 3
   },
   "file_extension": ".py",
   "mimetype": "text/x-python",
   "name": "python",
   "nbconvert_exporter": "python",
   "pygments_lexer": "ipython3",
   "version": "3.7.16 (default, Jan 17 2023, 22:20:44) \n[GCC 11.2.0]"
  },
  "orig_nbformat": 4,
  "vscode": {
   "interpreter": {
    "hash": "c17fa055d80af3d3df2fb66582edfaa092c791d620cfb7c04ac89ba1097ae194"
   }
  }
 },
 "nbformat": 4,
 "nbformat_minor": 2
}
